{
  "nbformat": 4,
  "nbformat_minor": 0,
  "metadata": {
    "colab": {
      "provenance": [],
      "gpuType": "T4"
    },
    "kernelspec": {
      "name": "python3",
      "display_name": "Python 3"
    },
    "language_info": {
      "name": "python"
    },
    "accelerator": "GPU"
  },
  "cells": [
    {
      "cell_type": "code",
      "execution_count": 1,
      "metadata": {
        "colab": {
          "base_uri": "https://localhost:8080/"
        },
        "id": "X5xtRdTwf8o5",
        "outputId": "9d36e430-5f9b-485b-e55c-8258f3752f80"
      },
      "outputs": [
        {
          "output_type": "stream",
          "name": "stdout",
          "text": [
            "Requirement already satisfied: pandas-datareader in /usr/local/lib/python3.10/dist-packages (0.10.0)\n",
            "Requirement already satisfied: lxml in /usr/local/lib/python3.10/dist-packages (from pandas-datareader) (4.9.3)\n",
            "Requirement already satisfied: pandas>=0.23 in /usr/local/lib/python3.10/dist-packages (from pandas-datareader) (1.5.3)\n",
            "Requirement already satisfied: requests>=2.19.0 in /usr/local/lib/python3.10/dist-packages (from pandas-datareader) (2.27.1)\n",
            "Requirement already satisfied: python-dateutil>=2.8.1 in /usr/local/lib/python3.10/dist-packages (from pandas>=0.23->pandas-datareader) (2.8.2)\n",
            "Requirement already satisfied: pytz>=2020.1 in /usr/local/lib/python3.10/dist-packages (from pandas>=0.23->pandas-datareader) (2022.7.1)\n",
            "Requirement already satisfied: numpy>=1.21.0 in /usr/local/lib/python3.10/dist-packages (from pandas>=0.23->pandas-datareader) (1.22.4)\n",
            "Requirement already satisfied: urllib3<1.27,>=1.21.1 in /usr/local/lib/python3.10/dist-packages (from requests>=2.19.0->pandas-datareader) (1.26.16)\n",
            "Requirement already satisfied: certifi>=2017.4.17 in /usr/local/lib/python3.10/dist-packages (from requests>=2.19.0->pandas-datareader) (2023.7.22)\n",
            "Requirement already satisfied: charset-normalizer~=2.0.0 in /usr/local/lib/python3.10/dist-packages (from requests>=2.19.0->pandas-datareader) (2.0.12)\n",
            "Requirement already satisfied: idna<4,>=2.5 in /usr/local/lib/python3.10/dist-packages (from requests>=2.19.0->pandas-datareader) (3.4)\n",
            "Requirement already satisfied: six>=1.5 in /usr/local/lib/python3.10/dist-packages (from python-dateutil>=2.8.1->pandas>=0.23->pandas-datareader) (1.16.0)\n"
          ]
        }
      ],
      "source": [
        "!pip install pandas-datareader"
      ]
    },
    {
      "cell_type": "code",
      "source": [
        "import pandas_datareader as pdr"
      ],
      "metadata": {
        "id": "eJWtCjEPgEgD"
      },
      "execution_count": 2,
      "outputs": []
    },
    {
      "cell_type": "code",
      "source": [
        "key=\"33baa3dc787ac2a60aba8fad5de8b7400eec0cba\""
      ],
      "metadata": {
        "id": "1-bXPsCjgR6f"
      },
      "execution_count": 3,
      "outputs": []
    },
    {
      "cell_type": "code",
      "source": [
        "df=pdr.get_data_tiingo('AAPL',api_key=key)"
      ],
      "metadata": {
        "colab": {
          "base_uri": "https://localhost:8080/"
        },
        "id": "tMlMH61ZgUl8",
        "outputId": "48eb2152-bda1-4dc0-c962-8b33951bb66d"
      },
      "execution_count": 4,
      "outputs": [
        {
          "output_type": "stream",
          "name": "stderr",
          "text": [
            "<ipython-input-4-4c27bf00e3b2>:1: FutureWarning: In a future version of pandas all arguments of concat except for the argument 'objs' will be keyword-only.\n",
            "  df=pdr.get_data_tiingo('AAPL',api_key=key)\n"
          ]
        }
      ]
    },
    {
      "cell_type": "code",
      "source": [
        "df.to_csv('AAPL.csv')"
      ],
      "metadata": {
        "id": "KBCQmjLxgZTA"
      },
      "execution_count": 5,
      "outputs": []
    },
    {
      "cell_type": "code",
      "source": [
        "import os\n",
        "import numpy as np\n",
        "import pandas as pd\n",
        "import matplotlib.pyplot as plt\n",
        "import seaborn as sns"
      ],
      "metadata": {
        "id": "RC3UUJJMgg8y"
      },
      "execution_count": 6,
      "outputs": []
    },
    {
      "cell_type": "code",
      "source": [
        "df=pd.read_csv('/content/AAPL.csv')\n"
      ],
      "metadata": {
        "id": "koV41DcOgljQ"
      },
      "execution_count": 7,
      "outputs": []
    },
    {
      "cell_type": "code",
      "source": [
        "df.head()"
      ],
      "metadata": {
        "colab": {
          "base_uri": "https://localhost:8080/",
          "height": 206
        },
        "id": "WxfF3L-HgyEK",
        "outputId": "f94ab318-d664-4f54-96c8-51552d4fc8d5"
      },
      "execution_count": 8,
      "outputs": [
        {
          "output_type": "execute_result",
          "data": {
            "text/plain": [
              "  symbol                       date   close    high     low    open    volume  \\\n",
              "0   AAPL  2018-08-08 00:00:00+00:00  207.25  207.81  204.52  206.05  22525487   \n",
              "1   AAPL  2018-08-09 00:00:00+00:00  208.88  209.78  207.20  207.28  23492626   \n",
              "2   AAPL  2018-08-10 00:00:00+00:00  207.53  209.10  206.67  207.36  24611202   \n",
              "3   AAPL  2018-08-13 00:00:00+00:00  208.87  210.95  207.70  207.70  25890880   \n",
              "4   AAPL  2018-08-14 00:00:00+00:00  209.75  210.56  208.26  210.16  20748010   \n",
              "\n",
              "    adjClose    adjHigh     adjLow    adjOpen  adjVolume  divCash  splitFactor  \n",
              "0  49.511754  49.645537  48.859561  49.225076   90101948     0.00          1.0  \n",
              "1  49.901159  50.116168  49.499809  49.518921   93970504     0.00          1.0  \n",
              "2  49.753042  50.129432  49.546866  49.712286   98444808     0.73          1.0  \n",
              "3  50.074292  50.572949  49.793797  49.793797  103563520     0.00          1.0  \n",
              "4  50.285262  50.479451  49.928051  50.383555   82992040     0.00          1.0  "
            ],
            "text/html": [
              "\n",
              "\n",
              "  <div id=\"df-0b1b1f92-a7f5-412d-97e0-2a8ad3e7536e\">\n",
              "    <div class=\"colab-df-container\">\n",
              "      <div>\n",
              "<style scoped>\n",
              "    .dataframe tbody tr th:only-of-type {\n",
              "        vertical-align: middle;\n",
              "    }\n",
              "\n",
              "    .dataframe tbody tr th {\n",
              "        vertical-align: top;\n",
              "    }\n",
              "\n",
              "    .dataframe thead th {\n",
              "        text-align: right;\n",
              "    }\n",
              "</style>\n",
              "<table border=\"1\" class=\"dataframe\">\n",
              "  <thead>\n",
              "    <tr style=\"text-align: right;\">\n",
              "      <th></th>\n",
              "      <th>symbol</th>\n",
              "      <th>date</th>\n",
              "      <th>close</th>\n",
              "      <th>high</th>\n",
              "      <th>low</th>\n",
              "      <th>open</th>\n",
              "      <th>volume</th>\n",
              "      <th>adjClose</th>\n",
              "      <th>adjHigh</th>\n",
              "      <th>adjLow</th>\n",
              "      <th>adjOpen</th>\n",
              "      <th>adjVolume</th>\n",
              "      <th>divCash</th>\n",
              "      <th>splitFactor</th>\n",
              "    </tr>\n",
              "  </thead>\n",
              "  <tbody>\n",
              "    <tr>\n",
              "      <th>0</th>\n",
              "      <td>AAPL</td>\n",
              "      <td>2018-08-08 00:00:00+00:00</td>\n",
              "      <td>207.25</td>\n",
              "      <td>207.81</td>\n",
              "      <td>204.52</td>\n",
              "      <td>206.05</td>\n",
              "      <td>22525487</td>\n",
              "      <td>49.511754</td>\n",
              "      <td>49.645537</td>\n",
              "      <td>48.859561</td>\n",
              "      <td>49.225076</td>\n",
              "      <td>90101948</td>\n",
              "      <td>0.00</td>\n",
              "      <td>1.0</td>\n",
              "    </tr>\n",
              "    <tr>\n",
              "      <th>1</th>\n",
              "      <td>AAPL</td>\n",
              "      <td>2018-08-09 00:00:00+00:00</td>\n",
              "      <td>208.88</td>\n",
              "      <td>209.78</td>\n",
              "      <td>207.20</td>\n",
              "      <td>207.28</td>\n",
              "      <td>23492626</td>\n",
              "      <td>49.901159</td>\n",
              "      <td>50.116168</td>\n",
              "      <td>49.499809</td>\n",
              "      <td>49.518921</td>\n",
              "      <td>93970504</td>\n",
              "      <td>0.00</td>\n",
              "      <td>1.0</td>\n",
              "    </tr>\n",
              "    <tr>\n",
              "      <th>2</th>\n",
              "      <td>AAPL</td>\n",
              "      <td>2018-08-10 00:00:00+00:00</td>\n",
              "      <td>207.53</td>\n",
              "      <td>209.10</td>\n",
              "      <td>206.67</td>\n",
              "      <td>207.36</td>\n",
              "      <td>24611202</td>\n",
              "      <td>49.753042</td>\n",
              "      <td>50.129432</td>\n",
              "      <td>49.546866</td>\n",
              "      <td>49.712286</td>\n",
              "      <td>98444808</td>\n",
              "      <td>0.73</td>\n",
              "      <td>1.0</td>\n",
              "    </tr>\n",
              "    <tr>\n",
              "      <th>3</th>\n",
              "      <td>AAPL</td>\n",
              "      <td>2018-08-13 00:00:00+00:00</td>\n",
              "      <td>208.87</td>\n",
              "      <td>210.95</td>\n",
              "      <td>207.70</td>\n",
              "      <td>207.70</td>\n",
              "      <td>25890880</td>\n",
              "      <td>50.074292</td>\n",
              "      <td>50.572949</td>\n",
              "      <td>49.793797</td>\n",
              "      <td>49.793797</td>\n",
              "      <td>103563520</td>\n",
              "      <td>0.00</td>\n",
              "      <td>1.0</td>\n",
              "    </tr>\n",
              "    <tr>\n",
              "      <th>4</th>\n",
              "      <td>AAPL</td>\n",
              "      <td>2018-08-14 00:00:00+00:00</td>\n",
              "      <td>209.75</td>\n",
              "      <td>210.56</td>\n",
              "      <td>208.26</td>\n",
              "      <td>210.16</td>\n",
              "      <td>20748010</td>\n",
              "      <td>50.285262</td>\n",
              "      <td>50.479451</td>\n",
              "      <td>49.928051</td>\n",
              "      <td>50.383555</td>\n",
              "      <td>82992040</td>\n",
              "      <td>0.00</td>\n",
              "      <td>1.0</td>\n",
              "    </tr>\n",
              "  </tbody>\n",
              "</table>\n",
              "</div>\n",
              "      <button class=\"colab-df-convert\" onclick=\"convertToInteractive('df-0b1b1f92-a7f5-412d-97e0-2a8ad3e7536e')\"\n",
              "              title=\"Convert this dataframe to an interactive table.\"\n",
              "              style=\"display:none;\">\n",
              "\n",
              "  <svg xmlns=\"http://www.w3.org/2000/svg\" height=\"24px\"viewBox=\"0 0 24 24\"\n",
              "       width=\"24px\">\n",
              "    <path d=\"M0 0h24v24H0V0z\" fill=\"none\"/>\n",
              "    <path d=\"M18.56 5.44l.94 2.06.94-2.06 2.06-.94-2.06-.94-.94-2.06-.94 2.06-2.06.94zm-11 1L8.5 8.5l.94-2.06 2.06-.94-2.06-.94L8.5 2.5l-.94 2.06-2.06.94zm10 10l.94 2.06.94-2.06 2.06-.94-2.06-.94-.94-2.06-.94 2.06-2.06.94z\"/><path d=\"M17.41 7.96l-1.37-1.37c-.4-.4-.92-.59-1.43-.59-.52 0-1.04.2-1.43.59L10.3 9.45l-7.72 7.72c-.78.78-.78 2.05 0 2.83L4 21.41c.39.39.9.59 1.41.59.51 0 1.02-.2 1.41-.59l7.78-7.78 2.81-2.81c.8-.78.8-2.07 0-2.86zM5.41 20L4 18.59l7.72-7.72 1.47 1.35L5.41 20z\"/>\n",
              "  </svg>\n",
              "      </button>\n",
              "\n",
              "\n",
              "\n",
              "    <div id=\"df-92229974-c900-4742-9e46-752380eef398\">\n",
              "      <button class=\"colab-df-quickchart\" onclick=\"quickchart('df-92229974-c900-4742-9e46-752380eef398')\"\n",
              "              title=\"Suggest charts.\"\n",
              "              style=\"display:none;\">\n",
              "\n",
              "<svg xmlns=\"http://www.w3.org/2000/svg\" height=\"24px\"viewBox=\"0 0 24 24\"\n",
              "     width=\"24px\">\n",
              "    <g>\n",
              "        <path d=\"M19 3H5c-1.1 0-2 .9-2 2v14c0 1.1.9 2 2 2h14c1.1 0 2-.9 2-2V5c0-1.1-.9-2-2-2zM9 17H7v-7h2v7zm4 0h-2V7h2v10zm4 0h-2v-4h2v4z\"/>\n",
              "    </g>\n",
              "</svg>\n",
              "      </button>\n",
              "    </div>\n",
              "\n",
              "<style>\n",
              "  .colab-df-quickchart {\n",
              "    background-color: #E8F0FE;\n",
              "    border: none;\n",
              "    border-radius: 50%;\n",
              "    cursor: pointer;\n",
              "    display: none;\n",
              "    fill: #1967D2;\n",
              "    height: 32px;\n",
              "    padding: 0 0 0 0;\n",
              "    width: 32px;\n",
              "  }\n",
              "\n",
              "  .colab-df-quickchart:hover {\n",
              "    background-color: #E2EBFA;\n",
              "    box-shadow: 0px 1px 2px rgba(60, 64, 67, 0.3), 0px 1px 3px 1px rgba(60, 64, 67, 0.15);\n",
              "    fill: #174EA6;\n",
              "  }\n",
              "\n",
              "  [theme=dark] .colab-df-quickchart {\n",
              "    background-color: #3B4455;\n",
              "    fill: #D2E3FC;\n",
              "  }\n",
              "\n",
              "  [theme=dark] .colab-df-quickchart:hover {\n",
              "    background-color: #434B5C;\n",
              "    box-shadow: 0px 1px 3px 1px rgba(0, 0, 0, 0.15);\n",
              "    filter: drop-shadow(0px 1px 2px rgba(0, 0, 0, 0.3));\n",
              "    fill: #FFFFFF;\n",
              "  }\n",
              "</style>\n",
              "\n",
              "    <script>\n",
              "      async function quickchart(key) {\n",
              "        const containerElement = document.querySelector('#' + key);\n",
              "        const charts = await google.colab.kernel.invokeFunction(\n",
              "            'suggestCharts', [key], {});\n",
              "      }\n",
              "    </script>\n",
              "\n",
              "      <script>\n",
              "\n",
              "function displayQuickchartButton(domScope) {\n",
              "  let quickchartButtonEl =\n",
              "    domScope.querySelector('#df-92229974-c900-4742-9e46-752380eef398 button.colab-df-quickchart');\n",
              "  quickchartButtonEl.style.display =\n",
              "    google.colab.kernel.accessAllowed ? 'block' : 'none';\n",
              "}\n",
              "\n",
              "        displayQuickchartButton(document);\n",
              "      </script>\n",
              "      <style>\n",
              "    .colab-df-container {\n",
              "      display:flex;\n",
              "      flex-wrap:wrap;\n",
              "      gap: 12px;\n",
              "    }\n",
              "\n",
              "    .colab-df-convert {\n",
              "      background-color: #E8F0FE;\n",
              "      border: none;\n",
              "      border-radius: 50%;\n",
              "      cursor: pointer;\n",
              "      display: none;\n",
              "      fill: #1967D2;\n",
              "      height: 32px;\n",
              "      padding: 0 0 0 0;\n",
              "      width: 32px;\n",
              "    }\n",
              "\n",
              "    .colab-df-convert:hover {\n",
              "      background-color: #E2EBFA;\n",
              "      box-shadow: 0px 1px 2px rgba(60, 64, 67, 0.3), 0px 1px 3px 1px rgba(60, 64, 67, 0.15);\n",
              "      fill: #174EA6;\n",
              "    }\n",
              "\n",
              "    [theme=dark] .colab-df-convert {\n",
              "      background-color: #3B4455;\n",
              "      fill: #D2E3FC;\n",
              "    }\n",
              "\n",
              "    [theme=dark] .colab-df-convert:hover {\n",
              "      background-color: #434B5C;\n",
              "      box-shadow: 0px 1px 3px 1px rgba(0, 0, 0, 0.15);\n",
              "      filter: drop-shadow(0px 1px 2px rgba(0, 0, 0, 0.3));\n",
              "      fill: #FFFFFF;\n",
              "    }\n",
              "  </style>\n",
              "\n",
              "      <script>\n",
              "        const buttonEl =\n",
              "          document.querySelector('#df-0b1b1f92-a7f5-412d-97e0-2a8ad3e7536e button.colab-df-convert');\n",
              "        buttonEl.style.display =\n",
              "          google.colab.kernel.accessAllowed ? 'block' : 'none';\n",
              "\n",
              "        async function convertToInteractive(key) {\n",
              "          const element = document.querySelector('#df-0b1b1f92-a7f5-412d-97e0-2a8ad3e7536e');\n",
              "          const dataTable =\n",
              "            await google.colab.kernel.invokeFunction('convertToInteractive',\n",
              "                                                     [key], {});\n",
              "          if (!dataTable) return;\n",
              "\n",
              "          const docLinkHtml = 'Like what you see? Visit the ' +\n",
              "            '<a target=\"_blank\" href=https://colab.research.google.com/notebooks/data_table.ipynb>data table notebook</a>'\n",
              "            + ' to learn more about interactive tables.';\n",
              "          element.innerHTML = '';\n",
              "          dataTable['output_type'] = 'display_data';\n",
              "          await google.colab.output.renderOutput(dataTable, element);\n",
              "          const docLink = document.createElement('div');\n",
              "          docLink.innerHTML = docLinkHtml;\n",
              "          element.appendChild(docLink);\n",
              "        }\n",
              "      </script>\n",
              "    </div>\n",
              "  </div>\n"
            ]
          },
          "metadata": {},
          "execution_count": 8
        }
      ]
    },
    {
      "cell_type": "code",
      "source": [
        "df.tail()"
      ],
      "metadata": {
        "colab": {
          "base_uri": "https://localhost:8080/",
          "height": 206
        },
        "id": "1432zoiKg6UY",
        "outputId": "e02d5991-cb72-4a84-88c1-915866c6170c"
      },
      "execution_count": 9,
      "outputs": [
        {
          "output_type": "execute_result",
          "data": {
            "text/plain": [
              "     symbol                       date    close    high       low     open  \\\n",
              "1251   AAPL  2023-07-31 00:00:00+00:00  196.450  196.49  195.2600  196.060   \n",
              "1252   AAPL  2023-08-01 00:00:00+00:00  195.605  196.73  195.2800  196.235   \n",
              "1253   AAPL  2023-08-02 00:00:00+00:00  192.580  195.18  191.8507  195.040   \n",
              "1254   AAPL  2023-08-03 00:00:00+00:00  191.170  192.37  190.6900  191.570   \n",
              "1255   AAPL  2023-08-04 00:00:00+00:00  181.990  187.38  181.9200  185.520   \n",
              "\n",
              "         volume  adjClose  adjHigh    adjLow  adjOpen  adjVolume  divCash  \\\n",
              "1251   38824113   196.450   196.49  195.2600  196.060   38824113      0.0   \n",
              "1252   35281426   195.605   196.73  195.2800  196.235   35281426      0.0   \n",
              "1253   50389327   192.580   195.18  191.8507  195.040   50389327      0.0   \n",
              "1254   62243282   191.170   192.37  190.6900  191.570   62243282      0.0   \n",
              "1255  115956841   181.990   187.38  181.9200  185.520  115956841      0.0   \n",
              "\n",
              "      splitFactor  \n",
              "1251          1.0  \n",
              "1252          1.0  \n",
              "1253          1.0  \n",
              "1254          1.0  \n",
              "1255          1.0  "
            ],
            "text/html": [
              "\n",
              "\n",
              "  <div id=\"df-9d627f6c-7b5d-4cc2-b116-d8baf192e2af\">\n",
              "    <div class=\"colab-df-container\">\n",
              "      <div>\n",
              "<style scoped>\n",
              "    .dataframe tbody tr th:only-of-type {\n",
              "        vertical-align: middle;\n",
              "    }\n",
              "\n",
              "    .dataframe tbody tr th {\n",
              "        vertical-align: top;\n",
              "    }\n",
              "\n",
              "    .dataframe thead th {\n",
              "        text-align: right;\n",
              "    }\n",
              "</style>\n",
              "<table border=\"1\" class=\"dataframe\">\n",
              "  <thead>\n",
              "    <tr style=\"text-align: right;\">\n",
              "      <th></th>\n",
              "      <th>symbol</th>\n",
              "      <th>date</th>\n",
              "      <th>close</th>\n",
              "      <th>high</th>\n",
              "      <th>low</th>\n",
              "      <th>open</th>\n",
              "      <th>volume</th>\n",
              "      <th>adjClose</th>\n",
              "      <th>adjHigh</th>\n",
              "      <th>adjLow</th>\n",
              "      <th>adjOpen</th>\n",
              "      <th>adjVolume</th>\n",
              "      <th>divCash</th>\n",
              "      <th>splitFactor</th>\n",
              "    </tr>\n",
              "  </thead>\n",
              "  <tbody>\n",
              "    <tr>\n",
              "      <th>1251</th>\n",
              "      <td>AAPL</td>\n",
              "      <td>2023-07-31 00:00:00+00:00</td>\n",
              "      <td>196.450</td>\n",
              "      <td>196.49</td>\n",
              "      <td>195.2600</td>\n",
              "      <td>196.060</td>\n",
              "      <td>38824113</td>\n",
              "      <td>196.450</td>\n",
              "      <td>196.49</td>\n",
              "      <td>195.2600</td>\n",
              "      <td>196.060</td>\n",
              "      <td>38824113</td>\n",
              "      <td>0.0</td>\n",
              "      <td>1.0</td>\n",
              "    </tr>\n",
              "    <tr>\n",
              "      <th>1252</th>\n",
              "      <td>AAPL</td>\n",
              "      <td>2023-08-01 00:00:00+00:00</td>\n",
              "      <td>195.605</td>\n",
              "      <td>196.73</td>\n",
              "      <td>195.2800</td>\n",
              "      <td>196.235</td>\n",
              "      <td>35281426</td>\n",
              "      <td>195.605</td>\n",
              "      <td>196.73</td>\n",
              "      <td>195.2800</td>\n",
              "      <td>196.235</td>\n",
              "      <td>35281426</td>\n",
              "      <td>0.0</td>\n",
              "      <td>1.0</td>\n",
              "    </tr>\n",
              "    <tr>\n",
              "      <th>1253</th>\n",
              "      <td>AAPL</td>\n",
              "      <td>2023-08-02 00:00:00+00:00</td>\n",
              "      <td>192.580</td>\n",
              "      <td>195.18</td>\n",
              "      <td>191.8507</td>\n",
              "      <td>195.040</td>\n",
              "      <td>50389327</td>\n",
              "      <td>192.580</td>\n",
              "      <td>195.18</td>\n",
              "      <td>191.8507</td>\n",
              "      <td>195.040</td>\n",
              "      <td>50389327</td>\n",
              "      <td>0.0</td>\n",
              "      <td>1.0</td>\n",
              "    </tr>\n",
              "    <tr>\n",
              "      <th>1254</th>\n",
              "      <td>AAPL</td>\n",
              "      <td>2023-08-03 00:00:00+00:00</td>\n",
              "      <td>191.170</td>\n",
              "      <td>192.37</td>\n",
              "      <td>190.6900</td>\n",
              "      <td>191.570</td>\n",
              "      <td>62243282</td>\n",
              "      <td>191.170</td>\n",
              "      <td>192.37</td>\n",
              "      <td>190.6900</td>\n",
              "      <td>191.570</td>\n",
              "      <td>62243282</td>\n",
              "      <td>0.0</td>\n",
              "      <td>1.0</td>\n",
              "    </tr>\n",
              "    <tr>\n",
              "      <th>1255</th>\n",
              "      <td>AAPL</td>\n",
              "      <td>2023-08-04 00:00:00+00:00</td>\n",
              "      <td>181.990</td>\n",
              "      <td>187.38</td>\n",
              "      <td>181.9200</td>\n",
              "      <td>185.520</td>\n",
              "      <td>115956841</td>\n",
              "      <td>181.990</td>\n",
              "      <td>187.38</td>\n",
              "      <td>181.9200</td>\n",
              "      <td>185.520</td>\n",
              "      <td>115956841</td>\n",
              "      <td>0.0</td>\n",
              "      <td>1.0</td>\n",
              "    </tr>\n",
              "  </tbody>\n",
              "</table>\n",
              "</div>\n",
              "      <button class=\"colab-df-convert\" onclick=\"convertToInteractive('df-9d627f6c-7b5d-4cc2-b116-d8baf192e2af')\"\n",
              "              title=\"Convert this dataframe to an interactive table.\"\n",
              "              style=\"display:none;\">\n",
              "\n",
              "  <svg xmlns=\"http://www.w3.org/2000/svg\" height=\"24px\"viewBox=\"0 0 24 24\"\n",
              "       width=\"24px\">\n",
              "    <path d=\"M0 0h24v24H0V0z\" fill=\"none\"/>\n",
              "    <path d=\"M18.56 5.44l.94 2.06.94-2.06 2.06-.94-2.06-.94-.94-2.06-.94 2.06-2.06.94zm-11 1L8.5 8.5l.94-2.06 2.06-.94-2.06-.94L8.5 2.5l-.94 2.06-2.06.94zm10 10l.94 2.06.94-2.06 2.06-.94-2.06-.94-.94-2.06-.94 2.06-2.06.94z\"/><path d=\"M17.41 7.96l-1.37-1.37c-.4-.4-.92-.59-1.43-.59-.52 0-1.04.2-1.43.59L10.3 9.45l-7.72 7.72c-.78.78-.78 2.05 0 2.83L4 21.41c.39.39.9.59 1.41.59.51 0 1.02-.2 1.41-.59l7.78-7.78 2.81-2.81c.8-.78.8-2.07 0-2.86zM5.41 20L4 18.59l7.72-7.72 1.47 1.35L5.41 20z\"/>\n",
              "  </svg>\n",
              "      </button>\n",
              "\n",
              "\n",
              "\n",
              "    <div id=\"df-1971acad-abff-477d-b6f3-47fedce4e1d1\">\n",
              "      <button class=\"colab-df-quickchart\" onclick=\"quickchart('df-1971acad-abff-477d-b6f3-47fedce4e1d1')\"\n",
              "              title=\"Suggest charts.\"\n",
              "              style=\"display:none;\">\n",
              "\n",
              "<svg xmlns=\"http://www.w3.org/2000/svg\" height=\"24px\"viewBox=\"0 0 24 24\"\n",
              "     width=\"24px\">\n",
              "    <g>\n",
              "        <path d=\"M19 3H5c-1.1 0-2 .9-2 2v14c0 1.1.9 2 2 2h14c1.1 0 2-.9 2-2V5c0-1.1-.9-2-2-2zM9 17H7v-7h2v7zm4 0h-2V7h2v10zm4 0h-2v-4h2v4z\"/>\n",
              "    </g>\n",
              "</svg>\n",
              "      </button>\n",
              "    </div>\n",
              "\n",
              "<style>\n",
              "  .colab-df-quickchart {\n",
              "    background-color: #E8F0FE;\n",
              "    border: none;\n",
              "    border-radius: 50%;\n",
              "    cursor: pointer;\n",
              "    display: none;\n",
              "    fill: #1967D2;\n",
              "    height: 32px;\n",
              "    padding: 0 0 0 0;\n",
              "    width: 32px;\n",
              "  }\n",
              "\n",
              "  .colab-df-quickchart:hover {\n",
              "    background-color: #E2EBFA;\n",
              "    box-shadow: 0px 1px 2px rgba(60, 64, 67, 0.3), 0px 1px 3px 1px rgba(60, 64, 67, 0.15);\n",
              "    fill: #174EA6;\n",
              "  }\n",
              "\n",
              "  [theme=dark] .colab-df-quickchart {\n",
              "    background-color: #3B4455;\n",
              "    fill: #D2E3FC;\n",
              "  }\n",
              "\n",
              "  [theme=dark] .colab-df-quickchart:hover {\n",
              "    background-color: #434B5C;\n",
              "    box-shadow: 0px 1px 3px 1px rgba(0, 0, 0, 0.15);\n",
              "    filter: drop-shadow(0px 1px 2px rgba(0, 0, 0, 0.3));\n",
              "    fill: #FFFFFF;\n",
              "  }\n",
              "</style>\n",
              "\n",
              "    <script>\n",
              "      async function quickchart(key) {\n",
              "        const containerElement = document.querySelector('#' + key);\n",
              "        const charts = await google.colab.kernel.invokeFunction(\n",
              "            'suggestCharts', [key], {});\n",
              "      }\n",
              "    </script>\n",
              "\n",
              "      <script>\n",
              "\n",
              "function displayQuickchartButton(domScope) {\n",
              "  let quickchartButtonEl =\n",
              "    domScope.querySelector('#df-1971acad-abff-477d-b6f3-47fedce4e1d1 button.colab-df-quickchart');\n",
              "  quickchartButtonEl.style.display =\n",
              "    google.colab.kernel.accessAllowed ? 'block' : 'none';\n",
              "}\n",
              "\n",
              "        displayQuickchartButton(document);\n",
              "      </script>\n",
              "      <style>\n",
              "    .colab-df-container {\n",
              "      display:flex;\n",
              "      flex-wrap:wrap;\n",
              "      gap: 12px;\n",
              "    }\n",
              "\n",
              "    .colab-df-convert {\n",
              "      background-color: #E8F0FE;\n",
              "      border: none;\n",
              "      border-radius: 50%;\n",
              "      cursor: pointer;\n",
              "      display: none;\n",
              "      fill: #1967D2;\n",
              "      height: 32px;\n",
              "      padding: 0 0 0 0;\n",
              "      width: 32px;\n",
              "    }\n",
              "\n",
              "    .colab-df-convert:hover {\n",
              "      background-color: #E2EBFA;\n",
              "      box-shadow: 0px 1px 2px rgba(60, 64, 67, 0.3), 0px 1px 3px 1px rgba(60, 64, 67, 0.15);\n",
              "      fill: #174EA6;\n",
              "    }\n",
              "\n",
              "    [theme=dark] .colab-df-convert {\n",
              "      background-color: #3B4455;\n",
              "      fill: #D2E3FC;\n",
              "    }\n",
              "\n",
              "    [theme=dark] .colab-df-convert:hover {\n",
              "      background-color: #434B5C;\n",
              "      box-shadow: 0px 1px 3px 1px rgba(0, 0, 0, 0.15);\n",
              "      filter: drop-shadow(0px 1px 2px rgba(0, 0, 0, 0.3));\n",
              "      fill: #FFFFFF;\n",
              "    }\n",
              "  </style>\n",
              "\n",
              "      <script>\n",
              "        const buttonEl =\n",
              "          document.querySelector('#df-9d627f6c-7b5d-4cc2-b116-d8baf192e2af button.colab-df-convert');\n",
              "        buttonEl.style.display =\n",
              "          google.colab.kernel.accessAllowed ? 'block' : 'none';\n",
              "\n",
              "        async function convertToInteractive(key) {\n",
              "          const element = document.querySelector('#df-9d627f6c-7b5d-4cc2-b116-d8baf192e2af');\n",
              "          const dataTable =\n",
              "            await google.colab.kernel.invokeFunction('convertToInteractive',\n",
              "                                                     [key], {});\n",
              "          if (!dataTable) return;\n",
              "\n",
              "          const docLinkHtml = 'Like what you see? Visit the ' +\n",
              "            '<a target=\"_blank\" href=https://colab.research.google.com/notebooks/data_table.ipynb>data table notebook</a>'\n",
              "            + ' to learn more about interactive tables.';\n",
              "          element.innerHTML = '';\n",
              "          dataTable['output_type'] = 'display_data';\n",
              "          await google.colab.output.renderOutput(dataTable, element);\n",
              "          const docLink = document.createElement('div');\n",
              "          docLink.innerHTML = docLinkHtml;\n",
              "          element.appendChild(docLink);\n",
              "        }\n",
              "      </script>\n",
              "    </div>\n",
              "  </div>\n"
            ]
          },
          "metadata": {},
          "execution_count": 9
        }
      ]
    },
    {
      "cell_type": "code",
      "source": [
        "df2=df.reset_index()['close']"
      ],
      "metadata": {
        "id": "u7I_Fb-nhDxb"
      },
      "execution_count": 10,
      "outputs": []
    },
    {
      "cell_type": "code",
      "source": [
        "df2.shape"
      ],
      "metadata": {
        "colab": {
          "base_uri": "https://localhost:8080/"
        },
        "id": "_tmTwybKhRNM",
        "outputId": "42518787-1386-47a8-9f9b-b822f9709a36"
      },
      "execution_count": 11,
      "outputs": [
        {
          "output_type": "execute_result",
          "data": {
            "text/plain": [
              "(1256,)"
            ]
          },
          "metadata": {},
          "execution_count": 11
        }
      ]
    },
    {
      "cell_type": "code",
      "source": [
        "df2"
      ],
      "metadata": {
        "colab": {
          "base_uri": "https://localhost:8080/"
        },
        "id": "wP3V8JPchUqM",
        "outputId": "2546edfc-1407-41d7-e5ca-84489a3295ec"
      },
      "execution_count": 12,
      "outputs": [
        {
          "output_type": "execute_result",
          "data": {
            "text/plain": [
              "0       207.250\n",
              "1       208.880\n",
              "2       207.530\n",
              "3       208.870\n",
              "4       209.750\n",
              "         ...   \n",
              "1251    196.450\n",
              "1252    195.605\n",
              "1253    192.580\n",
              "1254    191.170\n",
              "1255    181.990\n",
              "Name: close, Length: 1256, dtype: float64"
            ]
          },
          "metadata": {},
          "execution_count": 12
        }
      ]
    },
    {
      "cell_type": "code",
      "source": [
        "plt.plot(df2)"
      ],
      "metadata": {
        "colab": {
          "base_uri": "https://localhost:8080/",
          "height": 447
        },
        "id": "EwtZsLf9hYpZ",
        "outputId": "8e2ac81e-5385-45e1-d803-1068a9186c90"
      },
      "execution_count": 13,
      "outputs": [
        {
          "output_type": "execute_result",
          "data": {
            "text/plain": [
              "[<matplotlib.lines.Line2D at 0x7c9dcea42c50>]"
            ]
          },
          "metadata": {},
          "execution_count": 13
        },
        {
          "output_type": "display_data",
          "data": {
            "text/plain": [
              "<Figure size 640x480 with 1 Axes>"
            ],
            "image/png": "[encoded data removed]"
          },
          "metadata": {}
        }
      ]
    },
    {
      "cell_type": "code",
      "source": [
        "df2"
      ],
      "metadata": {
        "colab": {
          "base_uri": "https://localhost:8080/"
        },
        "id": "uw31lqmyhbhE",
        "outputId": "4d003a1c-d6c1-4fcf-c57e-417c83950c04"
      },
      "execution_count": 14,
      "outputs": [
        {
          "output_type": "execute_result",
          "data": {
            "text/plain": [
              "0       207.250\n",
              "1       208.880\n",
              "2       207.530\n",
              "3       208.870\n",
              "4       209.750\n",
              "         ...   \n",
              "1251    196.450\n",
              "1252    195.605\n",
              "1253    192.580\n",
              "1254    191.170\n",
              "1255    181.990\n",
              "Name: close, Length: 1256, dtype: float64"
            ]
          },
          "metadata": {},
          "execution_count": 14
        }
      ]
    },
    {
      "cell_type": "code",
      "source": [
        "#LSTM are very sensitive to the scale of data,so we apply MinMax scaler\n",
        "from sklearn.preprocessing import MinMaxScaler\n",
        "scaler=MinMaxScaler(feature_range=(0,1))\n",
        "df2=scaler.fit_transform(np.array(df2).reshape(-1,1))"
      ],
      "metadata": {
        "id": "D47cjlRuhm7V"
      },
      "execution_count": 15,
      "outputs": []
    },
    {
      "cell_type": "code",
      "source": [
        "df2.shape"
      ],
      "metadata": {
        "colab": {
          "base_uri": "https://localhost:8080/"
        },
        "id": "OpzTEEWKiFYX",
        "outputId": "c757db62-8836-4648-9db3-6444c389cbba"
      },
      "execution_count": 16,
      "outputs": [
        {
          "output_type": "execute_result",
          "data": {
            "text/plain": [
              "(1256, 1)"
            ]
          },
          "metadata": {},
          "execution_count": 16
        }
      ]
    },
    {
      "cell_type": "code",
      "source": [
        "df2"
      ],
      "metadata": {
        "colab": {
          "base_uri": "https://localhost:8080/"
        },
        "id": "sPZZcEmNiHHs",
        "outputId": "83c182b1-74db-4345-dd41-b5e1cd8a503d"
      },
      "execution_count": 17,
      "outputs": [
        {
          "output_type": "execute_result",
          "data": {
            "text/plain": [
              "array([[0.25149656],\n",
              "       [0.25557921],\n",
              "       [0.25219787],\n",
              "       ...,\n",
              "       [0.21475266],\n",
              "       [0.21122104],\n",
              "       [0.18822793]])"
            ]
          },
          "metadata": {},
          "execution_count": 17
        }
      ]
    },
    {
      "cell_type": "code",
      "source": [
        "#splitting dataset into train data and test data\n",
        "training_size=int(len(df2)*0.65)\n",
        "test_size=len(df2)-training_size\n",
        "train_data,test_data=df2[0:training_size,:],df2[training_size:len(df2),:1]"
      ],
      "metadata": {
        "id": "mzkJSqDoiIO6"
      },
      "execution_count": 18,
      "outputs": []
    },
    {
      "cell_type": "code",
      "source": [
        "training_size,test_size"
      ],
      "metadata": {
        "colab": {
          "base_uri": "https://localhost:8080/"
        },
        "id": "LCdgjmSojm8V",
        "outputId": "a2b2ecfa-9c65-4324-cf21-3c9ba4bff0b0"
      },
      "execution_count": 19,
      "outputs": [
        {
          "output_type": "execute_result",
          "data": {
            "text/plain": [
              "(816, 440)"
            ]
          },
          "metadata": {},
          "execution_count": 19
        }
      ]
    },
    {
      "cell_type": "code",
      "source": [
        "len(train_data),len(test_data)"
      ],
      "metadata": {
        "colab": {
          "base_uri": "https://localhost:8080/"
        },
        "id": "mjdI-lX6jssr",
        "outputId": "934f0597-c6bc-490b-adf1-990febd5c4d7"
      },
      "execution_count": 20,
      "outputs": [
        {
          "output_type": "execute_result",
          "data": {
            "text/plain": [
              "(816, 440)"
            ]
          },
          "metadata": {},
          "execution_count": 20
        }
      ]
    },
    {
      "cell_type": "code",
      "source": [
        "#convert an array of values into a dataset matrix\n",
        "def create_dataset(dataset,time_step=1):\n",
        "  dataX,dataY=[],[]\n",
        "  for i in range(len(dataset)-time_step-1):\n",
        "    a=dataset[i:(i+time_step),0]    #i=0,1,2,3...99    100\n",
        "    dataX.append(a)\n",
        "    dataY.append(dataset[i+time_step,0])\n",
        "  return np.array(dataX),np.array(dataY)"
      ],
      "metadata": {
        "id": "NPzFnhdnjxye"
      },
      "execution_count": 24,
      "outputs": []
    },
    {
      "cell_type": "code",
      "source": [
        "#reshape into x=t,t+1,t+2,t+3 and y=t+4   for time_step=4\n",
        "time_step=100\n",
        "X_train,y_train=create_dataset(train_data,time_step)\n",
        "X_test,y_test=create_dataset(test_data,time_step)"
      ],
      "metadata": {
        "id": "-8Dxr5cGL1LB"
      },
      "execution_count": 25,
      "outputs": []
    },
    {
      "cell_type": "code",
      "source": [
        "X_train"
      ],
      "metadata": {
        "colab": {
          "base_uri": "https://localhost:8080/"
        },
        "id": "SPSg7MzYNWlX",
        "outputId": "992c6b60-be7c-467c-9531-4c510aa7fa14"
      },
      "execution_count": 26,
      "outputs": [
        {
          "output_type": "execute_result",
          "data": {
            "text/plain": [
              "array([[0.25149656, 0.25557921, 0.25219787, ..., 0.12350657, 0.12370695,\n",
              "        0.12748904],\n",
              "       [0.25557921, 0.25219787, 0.25555416, ..., 0.12370695, 0.12748904,\n",
              "        0.12793989],\n",
              "       [0.25219787, 0.25555416, 0.2577583 , ..., 0.12748904, 0.12793989,\n",
              "        0.08854101],\n",
              "       ...,\n",
              "       [0.04984346, 0.05082029, 0.0482655 , ..., 0.10469631, 0.1063995 ,\n",
              "        0.10522229],\n",
              "       [0.05082029, 0.0482655 , 0.05137132, ..., 0.1063995 , 0.10522229,\n",
              "        0.11453976],\n",
              "       [0.0482655 , 0.05137132, 0.05921102, ..., 0.10522229, 0.11453976,\n",
              "        0.10760175]])"
            ]
          },
          "metadata": {},
          "execution_count": 26
        }
      ]
    },
    {
      "cell_type": "code",
      "source": [
        "X_train.shape,y_train.shape"
      ],
      "metadata": {
        "colab": {
          "base_uri": "https://localhost:8080/"
        },
        "id": "s_ZOcRMwNjvj",
        "outputId": "a47cff48-ebf9-412c-e595-45b3a593c0ab"
      },
      "execution_count": 27,
      "outputs": [
        {
          "output_type": "execute_result",
          "data": {
            "text/plain": [
              "((715, 100), (715,))"
            ]
          },
          "metadata": {},
          "execution_count": 27
        }
      ]
    },
    {
      "cell_type": "code",
      "source": [
        "X_test.shape,y_test.shape"
      ],
      "metadata": {
        "colab": {
          "base_uri": "https://localhost:8080/"
        },
        "id": "NseC_-uqOEjH",
        "outputId": "9ab59103-0c6c-4523-c0d6-37288eb90a58"
      },
      "execution_count": 28,
      "outputs": [
        {
          "output_type": "execute_result",
          "data": {
            "text/plain": [
              "((339, 100), (339,))"
            ]
          },
          "metadata": {},
          "execution_count": 28
        }
      ]
    },
    {
      "cell_type": "code",
      "source": [
        "#reshape input to be [samples,time_steps,features] which is required for LSTM\n",
        "X_train=X_train.reshape(X_train.shape[0],X_train.shape[1],1)\n",
        "X_test=X_test.reshape(X_test.shape[0],X_test.shape[1],1)"
      ],
      "metadata": {
        "id": "SA6hp_HmOI82"
      },
      "execution_count": 29,
      "outputs": []
    },
    {
      "cell_type": "code",
      "source": [
        "#create the Stacked LSTM model\n",
        "from tensorflow.keras.models import Sequential\n",
        "from tensorflow.keras.layers import Dense\n",
        "from tensorflow.keras.layers import LSTM"
      ],
      "metadata": {
        "id": "XDRrGhtOOlj8"
      },
      "execution_count": 30,
      "outputs": []
    },
    {
      "cell_type": "code",
      "source": [
        "model=Sequential()\n",
        "model.add(LSTM(50,return_sequences=True,input_shape=(100,1)))\n",
        "model.add(LSTM(50,return_sequences=True))\n",
        "model.add(LSTM(50))\n",
        "model.add(Dense(1))\n",
        "model.compile(loss='mean_squared_error',optimizer='adam')"
      ],
      "metadata": {
        "id": "pX_YmOV9PUZD"
      },
      "execution_count": 31,
      "outputs": []
    },
    {
      "cell_type": "code",
      "source": [
        "model.summary()"
      ],
      "metadata": {
        "colab": {
          "base_uri": "https://localhost:8080/"
        },
        "id": "Xgdy7yEtPdSe",
        "outputId": "663233fd-d09a-467c-e6db-62617cb20892"
      },
      "execution_count": 32,
      "outputs": [
        {
          "output_type": "stream",
          "name": "stdout",
          "text": [
            "Model: \"sequential\"\n",
            "_________________________________________________________________\n",
            " Layer (type)                Output Shape              Param #   \n",
            "=================================================================\n",
            " lstm (LSTM)                 (None, 100, 50)           10400     \n",
            "                                                                 \n",
            " lstm_1 (LSTM)               (None, 100, 50)           20200     \n",
            "                                                                 \n",
            " lstm_2 (LSTM)               (None, 50)                20200     \n",
            "                                                                 \n",
            " dense (Dense)               (None, 1)                 51        \n",
            "                                                                 \n",
            "=================================================================\n",
            "Total params: 50,851\n",
            "Trainable params: 50,851\n",
            "Non-trainable params: 0\n",
            "_________________________________________________________________\n"
          ]
        }
      ]
    },
    {
      "cell_type": "code",
      "source": [
        "model.fit(X_train,y_train,validation_data=(X_test,y_test),epochs=100,batch_size=64,verbose=1)"
      ],
      "metadata": {
        "colab": {
          "base_uri": "https://localhost:8080/"
        },
        "id": "yI1BNh_xPg72",
        "outputId": "96379706-75ad-4b02-ef70-51e425fc7b40"
      },
      "execution_count": 33,
      "outputs": [
        {
          "output_type": "stream",
          "name": "stdout",
          "text": [
            "Epoch 1/100\n",
            "12/12 [==============================] - 12s 115ms/step - loss: 0.0515 - val_loss: 0.0048\n",
            "Epoch 2/100\n",
            "12/12 [==============================] - 0s 18ms/step - loss: 0.0139 - val_loss: 0.0022\n",
            "Epoch 3/100\n",
            "12/12 [==============================] - 0s 19ms/step - loss: 0.0123 - val_loss: 9.4532e-04\n",
            "Epoch 4/100\n",
            "12/12 [==============================] - 0s 18ms/step - loss: 0.0108 - val_loss: 4.6129e-04\n",
            "Epoch 5/100\n",
            "12/12 [==============================] - 0s 18ms/step - loss: 0.0108 - val_loss: 0.0039\n",
            "Epoch 6/100\n",
            "12/12 [==============================] - 0s 19ms/step - loss: 0.0088 - val_loss: 4.7687e-04\n",
            "Epoch 7/100\n",
            "12/12 [==============================] - 0s 21ms/step - loss: 0.0074 - val_loss: 4.8385e-04\n",
            "Epoch 8/100\n",
            "12/12 [==============================] - 0s 19ms/step - loss: 0.0065 - val_loss: 4.2750e-04\n",
            "Epoch 9/100\n",
            "12/12 [==============================] - 0s 18ms/step - loss: 0.0063 - val_loss: 3.4344e-04\n",
            "Epoch 10/100\n",
            "12/12 [==============================] - 0s 19ms/step - loss: 0.0055 - val_loss: 4.4176e-04\n",
            "Epoch 11/100\n",
            "12/12 [==============================] - 0s 18ms/step - loss: 0.0048 - val_loss: 5.6349e-04\n",
            "Epoch 12/100\n",
            "12/12 [==============================] - 0s 19ms/step - loss: 0.0055 - val_loss: 3.7033e-04\n",
            "Epoch 13/100\n",
            "12/12 [==============================] - 0s 20ms/step - loss: 0.0061 - val_loss: 9.4063e-04\n",
            "Epoch 14/100\n",
            "12/12 [==============================] - 0s 18ms/step - loss: 0.0041 - val_loss: 3.3258e-04\n",
            "Epoch 15/100\n",
            "12/12 [==============================] - 0s 17ms/step - loss: 0.0036 - val_loss: 3.2953e-04\n",
            "Epoch 16/100\n",
            "12/12 [==============================] - 0s 19ms/step - loss: 0.0037 - val_loss: 4.8587e-04\n",
            "Epoch 17/100\n",
            "12/12 [==============================] - 0s 19ms/step - loss: 0.0037 - val_loss: 4.6819e-04\n",
            "Epoch 18/100\n",
            "12/12 [==============================] - 0s 18ms/step - loss: 0.0028 - val_loss: 4.1465e-04\n",
            "Epoch 19/100\n",
            "12/12 [==============================] - 0s 18ms/step - loss: 0.0022 - val_loss: 2.4129e-04\n",
            "Epoch 20/100\n",
            "12/12 [==============================] - 0s 18ms/step - loss: 0.0021 - val_loss: 2.5275e-04\n",
            "Epoch 21/100\n",
            "12/12 [==============================] - 0s 18ms/step - loss: 0.0022 - val_loss: 2.9760e-04\n",
            "Epoch 22/100\n",
            "12/12 [==============================] - 0s 19ms/step - loss: 0.0020 - val_loss: 2.5084e-04\n",
            "Epoch 23/100\n",
            "12/12 [==============================] - 0s 19ms/step - loss: 0.0022 - val_loss: 3.0461e-04\n",
            "Epoch 24/100\n",
            "12/12 [==============================] - 0s 19ms/step - loss: 0.0025 - val_loss: 3.9068e-04\n",
            "Epoch 25/100\n",
            "12/12 [==============================] - 0s 19ms/step - loss: 0.0024 - val_loss: 2.4182e-04\n",
            "Epoch 26/100\n",
            "12/12 [==============================] - 0s 19ms/step - loss: 0.0020 - val_loss: 2.2926e-04\n",
            "Epoch 27/100\n",
            "12/12 [==============================] - 0s 21ms/step - loss: 0.0018 - val_loss: 2.2850e-04\n",
            "Epoch 28/100\n",
            "12/12 [==============================] - 0s 18ms/step - loss: 0.0024 - val_loss: 2.6018e-04\n",
            "Epoch 29/100\n",
            "12/12 [==============================] - 0s 18ms/step - loss: 0.0027 - val_loss: 2.5184e-04\n",
            "Epoch 30/100\n",
            "12/12 [==============================] - 0s 19ms/step - loss: 0.0028 - val_loss: 2.6765e-04\n",
            "Epoch 31/100\n",
            "12/12 [==============================] - 0s 19ms/step - loss: 0.0026 - val_loss: 2.4055e-04\n",
            "Epoch 32/100\n",
            "12/12 [==============================] - 0s 19ms/step - loss: 0.0037 - val_loss: 4.9537e-04\n",
            "Epoch 33/100\n",
            "12/12 [==============================] - 0s 19ms/step - loss: 0.0027 - val_loss: 4.5330e-04\n",
            "Epoch 34/100\n",
            "12/12 [==============================] - 0s 19ms/step - loss: 0.0024 - val_loss: 2.3680e-04\n",
            "Epoch 35/100\n",
            "12/12 [==============================] - 0s 27ms/step - loss: 0.0024 - val_loss: 2.4379e-04\n",
            "Epoch 36/100\n",
            "12/12 [==============================] - 0s 27ms/step - loss: 0.0018 - val_loss: 2.5967e-04\n",
            "Epoch 37/100\n",
            "12/12 [==============================] - 0s 27ms/step - loss: 0.0025 - val_loss: 2.2843e-04\n",
            "Epoch 38/100\n",
            "12/12 [==============================] - 0s 27ms/step - loss: 0.0019 - val_loss: 3.1736e-04\n",
            "Epoch 39/100\n",
            "12/12 [==============================] - 0s 27ms/step - loss: 0.0021 - val_loss: 3.1536e-04\n",
            "Epoch 40/100\n",
            "12/12 [==============================] - 0s 27ms/step - loss: 0.0018 - val_loss: 2.3351e-04\n",
            "Epoch 41/100\n",
            "12/12 [==============================] - 0s 28ms/step - loss: 0.0015 - val_loss: 2.7433e-04\n",
            "Epoch 42/100\n",
            "12/12 [==============================] - 0s 24ms/step - loss: 0.0023 - val_loss: 2.9021e-04\n",
            "Epoch 43/100\n",
            "12/12 [==============================] - 0s 21ms/step - loss: 0.0025 - val_loss: 2.7153e-04\n",
            "Epoch 44/100\n",
            "12/12 [==============================] - 0s 17ms/step - loss: 0.0023 - val_loss: 2.3065e-04\n",
            "Epoch 45/100\n",
            "12/12 [==============================] - 0s 19ms/step - loss: 0.0018 - val_loss: 2.4226e-04\n",
            "Epoch 46/100\n",
            "12/12 [==============================] - 0s 20ms/step - loss: 0.0015 - val_loss: 2.3275e-04\n",
            "Epoch 47/100\n",
            "12/12 [==============================] - 0s 19ms/step - loss: 0.0020 - val_loss: 3.7822e-04\n",
            "Epoch 48/100\n",
            "12/12 [==============================] - 0s 18ms/step - loss: 0.0019 - val_loss: 2.3001e-04\n",
            "Epoch 49/100\n",
            "12/12 [==============================] - 0s 18ms/step - loss: 0.0018 - val_loss: 3.5133e-04\n",
            "Epoch 50/100\n",
            "12/12 [==============================] - 0s 20ms/step - loss: 0.0018 - val_loss: 2.2991e-04\n",
            "Epoch 51/100\n",
            "12/12 [==============================] - 0s 19ms/step - loss: 0.0015 - val_loss: 2.5605e-04\n",
            "Epoch 52/100\n",
            "12/12 [==============================] - 0s 18ms/step - loss: 0.0015 - val_loss: 3.1462e-04\n",
            "Epoch 53/100\n",
            "12/12 [==============================] - 0s 19ms/step - loss: 0.0042 - val_loss: 8.2822e-04\n",
            "Epoch 54/100\n",
            "12/12 [==============================] - 0s 19ms/step - loss: 0.0048 - val_loss: 2.6462e-04\n",
            "Epoch 55/100\n",
            "12/12 [==============================] - 0s 36ms/step - loss: 0.0036 - val_loss: 2.2936e-04\n",
            "Epoch 56/100\n",
            "12/12 [==============================] - 1s 45ms/step - loss: 0.0025 - val_loss: 4.3494e-04\n",
            "Epoch 57/100\n",
            "12/12 [==============================] - 0s 19ms/step - loss: 0.0023 - val_loss: 2.3381e-04\n",
            "Epoch 58/100\n",
            "12/12 [==============================] - 0s 18ms/step - loss: 0.0021 - val_loss: 2.1846e-04\n",
            "Epoch 59/100\n",
            "12/12 [==============================] - 0s 18ms/step - loss: 0.0027 - val_loss: 2.6806e-04\n",
            "Epoch 60/100\n",
            "12/12 [==============================] - 0s 18ms/step - loss: 0.0036 - val_loss: 2.0880e-04\n",
            "Epoch 61/100\n",
            "12/12 [==============================] - 0s 19ms/step - loss: 0.0030 - val_loss: 3.1524e-04\n",
            "Epoch 62/100\n",
            "12/12 [==============================] - 0s 19ms/step - loss: 0.0032 - val_loss: 4.4991e-04\n",
            "Epoch 63/100\n",
            "12/12 [==============================] - 0s 18ms/step - loss: 0.0022 - val_loss: 2.6704e-04\n",
            "Epoch 64/100\n",
            "12/12 [==============================] - 0s 19ms/step - loss: 0.0021 - val_loss: 2.8186e-04\n",
            "Epoch 65/100\n",
            "12/12 [==============================] - 0s 19ms/step - loss: 0.0024 - val_loss: 3.4327e-04\n",
            "Epoch 66/100\n",
            "12/12 [==============================] - 0s 19ms/step - loss: 0.0037 - val_loss: 2.4551e-04\n",
            "Epoch 67/100\n",
            "12/12 [==============================] - 0s 20ms/step - loss: 0.0045 - val_loss: 2.7562e-04\n",
            "Epoch 68/100\n",
            "12/12 [==============================] - 0s 18ms/step - loss: 0.0033 - val_loss: 2.2829e-04\n",
            "Epoch 69/100\n",
            "12/12 [==============================] - 0s 19ms/step - loss: 0.0026 - val_loss: 2.5140e-04\n",
            "Epoch 70/100\n",
            "12/12 [==============================] - 0s 19ms/step - loss: 0.0020 - val_loss: 2.5336e-04\n",
            "Epoch 71/100\n",
            "12/12 [==============================] - 0s 19ms/step - loss: 0.0027 - val_loss: 7.1062e-04\n",
            "Epoch 72/100\n",
            "12/12 [==============================] - 0s 19ms/step - loss: 0.0023 - val_loss: 6.4090e-04\n",
            "Epoch 73/100\n",
            "12/12 [==============================] - 0s 19ms/step - loss: 0.0018 - val_loss: 2.8178e-04\n",
            "Epoch 74/100\n",
            "12/12 [==============================] - 0s 18ms/step - loss: 0.0017 - val_loss: 2.6602e-04\n",
            "Epoch 75/100\n",
            "12/12 [==============================] - 0s 21ms/step - loss: 0.0020 - val_loss: 3.8452e-04\n",
            "Epoch 76/100\n",
            "12/12 [==============================] - 0s 20ms/step - loss: 0.0017 - val_loss: 2.5175e-04\n",
            "Epoch 77/100\n",
            "12/12 [==============================] - 0s 18ms/step - loss: 0.0024 - val_loss: 3.3786e-04\n",
            "Epoch 78/100\n",
            "12/12 [==============================] - 0s 19ms/step - loss: 0.0022 - val_loss: 2.4259e-04\n",
            "Epoch 79/100\n",
            "12/12 [==============================] - 0s 19ms/step - loss: 0.0023 - val_loss: 2.3677e-04\n",
            "Epoch 80/100\n",
            "12/12 [==============================] - 0s 18ms/step - loss: 0.0013 - val_loss: 2.2203e-04\n",
            "Epoch 81/100\n",
            "12/12 [==============================] - 0s 18ms/step - loss: 0.0016 - val_loss: 2.2537e-04\n",
            "Epoch 82/100\n",
            "12/12 [==============================] - 0s 18ms/step - loss: 0.0014 - val_loss: 2.4401e-04\n",
            "Epoch 83/100\n",
            "12/12 [==============================] - 0s 19ms/step - loss: 0.0012 - val_loss: 3.0235e-04\n",
            "Epoch 84/100\n",
            "12/12 [==============================] - 0s 24ms/step - loss: 0.0012 - val_loss: 2.6253e-04\n",
            "Epoch 85/100\n",
            "12/12 [==============================] - 0s 27ms/step - loss: 0.0011 - val_loss: 2.4291e-04\n",
            "Epoch 86/100\n",
            "12/12 [==============================] - 0s 26ms/step - loss: 0.0010 - val_loss: 2.2866e-04\n",
            "Epoch 87/100\n",
            "12/12 [==============================] - 0s 27ms/step - loss: 0.0014 - val_loss: 2.3507e-04\n",
            "Epoch 88/100\n",
            "12/12 [==============================] - 0s 26ms/step - loss: 0.0012 - val_loss: 2.4978e-04\n",
            "Epoch 89/100\n",
            "12/12 [==============================] - 0s 26ms/step - loss: 0.0014 - val_loss: 2.4160e-04\n",
            "Epoch 90/100\n",
            "12/12 [==============================] - 0s 28ms/step - loss: 0.0013 - val_loss: 2.3081e-04\n",
            "Epoch 91/100\n",
            "12/12 [==============================] - 0s 43ms/step - loss: 0.0012 - val_loss: 2.3680e-04\n",
            "Epoch 92/100\n",
            "12/12 [==============================] - 0s 40ms/step - loss: 0.0010 - val_loss: 2.2316e-04\n",
            "Epoch 93/100\n",
            "12/12 [==============================] - 0s 26ms/step - loss: 0.0010 - val_loss: 2.2011e-04\n",
            "Epoch 94/100\n",
            "12/12 [==============================] - 0s 18ms/step - loss: 0.0010 - val_loss: 2.2653e-04\n",
            "Epoch 95/100\n",
            "12/12 [==============================] - 1s 49ms/step - loss: 0.0013 - val_loss: 2.2453e-04\n",
            "Epoch 96/100\n",
            "12/12 [==============================] - 0s 36ms/step - loss: 0.0030 - val_loss: 7.1193e-04\n",
            "Epoch 97/100\n",
            "12/12 [==============================] - 0s 18ms/step - loss: 0.0023 - val_loss: 4.8604e-04\n",
            "Epoch 98/100\n",
            "12/12 [==============================] - 0s 19ms/step - loss: 0.0019 - val_loss: 2.9557e-04\n",
            "Epoch 99/100\n",
            "12/12 [==============================] - 0s 21ms/step - loss: 0.0018 - val_loss: 2.3371e-04\n",
            "Epoch 100/100\n",
            "12/12 [==============================] - 0s 18ms/step - loss: 0.0014 - val_loss: 2.3766e-04\n"
          ]
        },
        {
          "output_type": "execute_result",
          "data": {
            "text/plain": [
              "<keras.callbacks.History at 0x7c9d631227a0>"
            ]
          },
          "metadata": {},
          "execution_count": 33
        }
      ]
    },
    {
      "cell_type": "code",
      "source": [
        "### Lets Do the prediction and check performance metrics\n",
        "train_predict=model.predict(X_train)\n",
        "test_predict=model.predict(X_test)"
      ],
      "metadata": {
        "colab": {
          "base_uri": "https://localhost:8080/"
        },
        "id": "Q_h9K4YXQZUa",
        "outputId": "39ee1cfc-6bfd-49e0-ca39-6d710e25f76d"
      },
      "execution_count": 34,
      "outputs": [
        {
          "output_type": "stream",
          "name": "stdout",
          "text": [
            "23/23 [==============================] - 2s 9ms/step\n",
            "11/11 [==============================] - 0s 6ms/step\n"
          ]
        }
      ]
    },
    {
      "cell_type": "code",
      "source": [
        "##Transformback to original form\n",
        "train_predict=scaler.inverse_transform(train_predict)\n",
        "test_predict=scaler.inverse_transform(test_predict)"
      ],
      "metadata": {
        "id": "hmGjr3XkRl2w"
      },
      "execution_count": 35,
      "outputs": []
    },
    {
      "cell_type": "code",
      "source": [
        "### Calculate RMSE performance metrics\n",
        "import math\n",
        "from sklearn.metrics import mean_squared_error\n",
        "math.sqrt(mean_squared_error(y_train,train_predict))"
      ],
      "metadata": {
        "colab": {
          "base_uri": "https://localhost:8080/"
        },
        "id": "XjkIpJ-KRoJ3",
        "outputId": "a4ca65e8-c4ff-4823-8b0a-30ee1458ec6b"
      },
      "execution_count": 36,
      "outputs": [
        {
          "output_type": "execute_result",
          "data": {
            "text/plain": [
              "222.16448312743475"
            ]
          },
          "metadata": {},
          "execution_count": 36
        }
      ]
    },
    {
      "cell_type": "code",
      "source": [
        "### Test Data RMSE\n",
        "math.sqrt(mean_squared_error(y_test,test_predict))"
      ],
      "metadata": {
        "colab": {
          "base_uri": "https://localhost:8080/"
        },
        "id": "5DDvBFPmRqI-",
        "outputId": "8804e710-2f8a-490c-9504-8ddcdbb07253"
      },
      "execution_count": 38,
      "outputs": [
        {
          "output_type": "execute_result",
          "data": {
            "text/plain": [
              "156.44621439125143"
            ]
          },
          "metadata": {},
          "execution_count": 38
        }
      ]
    },
    {
      "cell_type": "code",
      "source": [
        "### Plotting\n",
        "# shift train predictions for plotting\n",
        "look_back=100\n",
        "trainPredictPlot = np.empty_like(df2)\n",
        "trainPredictPlot[:, :] = np.nan\n",
        "trainPredictPlot[look_back:len(train_predict)+look_back, :] = train_predict\n",
        "# shift test predictions for plotting\n",
        "testPredictPlot = np.empty_like(df2)\n",
        "testPredictPlot[:, :] = np.nan\n",
        "testPredictPlot[len(train_predict)+(look_back*2)+1:len(df2)-1, :] = test_predict\n",
        "# plot baseline and predictions\n",
        "plt.plot(scaler.inverse_transform(df2))\n",
        "plt.plot(trainPredictPlot)\n",
        "plt.plot(testPredictPlot)\n",
        "plt.show()\n"
      ],
      "metadata": {
        "colab": {
          "base_uri": "https://localhost:8080/",
          "height": 430
        },
        "id": "ZGK5XMIURtCa",
        "outputId": "ce307e53-591f-43b0-d72c-373a32918362"
      },
      "execution_count": 42,
      "outputs": [
        {
          "output_type": "display_data",
          "data": {
            "text/plain": [
              "<Figure size 640x480 with 1 Axes>"
            ],
            "image/png": "[encoded data removed]"
          },
          "metadata": {}
        }
      ]
    },
    {
      "cell_type": "code",
      "source": [
        "len(test_data)"
      ],
      "metadata": {
        "colab": {
          "base_uri": "https://localhost:8080/"
        },
        "id": "0Hgg7f4YR1d3",
        "outputId": "3e4968ad-bafc-41a6-a649-2f5cf05e13cd"
      },
      "execution_count": 43,
      "outputs": [
        {
          "output_type": "execute_result",
          "data": {
            "text/plain": [
              "440"
            ]
          },
          "metadata": {},
          "execution_count": 43
        }
      ]
    },
    {
      "cell_type": "code",
      "source": [
        "x_input=test_data[340:].reshape(1,-1)\n",
        "x_input.shape"
      ],
      "metadata": {
        "colab": {
          "base_uri": "https://localhost:8080/"
        },
        "id": "hnbMF8acSX4e",
        "outputId": "e99c1f44-0776-4e8a-b331-47de402251ce"
      },
      "execution_count": 48,
      "outputs": [
        {
          "output_type": "execute_result",
          "data": {
            "text/plain": [
              "(1, 100)"
            ]
          },
          "metadata": {},
          "execution_count": 48
        }
      ]
    },
    {
      "cell_type": "code",
      "source": [
        "temp_input=list(x_input)\n",
        "temp_input=temp_input[0].tolist()"
      ],
      "metadata": {
        "id": "75JANB-fTju4"
      },
      "execution_count": 49,
      "outputs": []
    },
    {
      "cell_type": "code",
      "source": [
        "temp_input"
      ],
      "metadata": {
        "colab": {
          "base_uri": "https://localhost:8080/"
        },
        "id": "dPyMtC-ZToub",
        "outputId": "52c949f1-7fb0-4469-dad7-8fbbe87f4a3c"
      },
      "execution_count": 50,
      "outputs": [
        {
          "output_type": "execute_result",
          "data": {
            "text/plain": [
              "[0.11458985597996241,\n",
              " 0.11559173450219157,\n",
              " 0.12275516593613017,\n",
              " 0.1206261740763932,\n",
              " 0.12663744520976827,\n",
              " 0.13134627426424544,\n",
              " 0.12771446462116465,\n",
              " 0.13046963055729488,\n",
              " 0.13377582968065116,\n",
              " 0.12884157795867246,\n",
              " 0.12726361928616153,\n",
              " 0.13507827175954912,\n",
              " 0.13906073888541015,\n",
              " 0.1454226675015654,\n",
              " 0.14860363180964303,\n",
              " 0.14725109580463364,\n",
              " 0.14256731371321218,\n",
              " 0.14482154038822787,\n",
              " 0.13823418910457103,\n",
              " 0.13515341264871633,\n",
              " 0.1334001252348152,\n",
              " 0.14707576706324355,\n",
              " 0.14619912335629304,\n",
              " 0.14624921728240442,\n",
              " 0.14935504070131495,\n",
              " 0.15226048841577955,\n",
              " 0.14980588603631806,\n",
              " 0.14572323105823415,\n",
              " 0.14649968691296178,\n",
              " 0.14259236067626796,\n",
              " 0.14256731371321218,\n",
              " 0.15421415153412643,\n",
              " 0.15739511584220411,\n",
              " 0.15716969317470253,\n",
              " 0.1545397620538509,\n",
              " 0.15180964308077638,\n",
              " 0.1476518472135253,\n",
              " 0.16713838447088286,\n",
              " 0.16696305572949277,\n",
              " 0.16262993112085156,\n",
              " 0.16710081402629928,\n",
              " 0.16758922980588598,\n",
              " 0.16463368816530988,\n",
              " 0.1633813400125234,\n",
              " 0.1633813400125234,\n",
              " 0.16493425172197868,\n",
              " 0.17084533500313087,\n",
              " 0.17112085159674384,\n",
              " 0.1687163431433938,\n",
              " 0.16210394489668123,\n",
              " 0.16280525986224165,\n",
              " 0.1656856606136506,\n",
              " 0.17179711959924854,\n",
              " 0.17648090169067,\n",
              " 0.17635566687539134,\n",
              " 0.1834690043832185,\n",
              " 0.1856230432060112,\n",
              " 0.18219160926737632,\n",
              " 0.18126487163431432,\n",
              " 0.1777833437695679,\n",
              " 0.18467125860989347,\n",
              " 0.18564809016906697,\n",
              " 0.19273638071383836,\n",
              " 0.1915341264871634,\n",
              " 0.19313713212273004,\n",
              " 0.19829680651221032,\n",
              " 0.1955666875391358,\n",
              " 0.1957921102066374,\n",
              " 0.1931621790857858,\n",
              " 0.2007764558547276,\n",
              " 0.19997495303694424,\n",
              " 0.19644333124608637,\n",
              " 0.2034314339386349,\n",
              " 0.2064120225422667,\n",
              " 0.2072636192861615,\n",
              " 0.21823418910457104,\n",
              " 0.21445209768315587,\n",
              " 0.21162179085785848,\n",
              " 0.21282404508453345,\n",
              " 0.20999373825923606,\n",
              " 0.20480901690670006,\n",
              " 0.20348152786474638,\n",
              " 0.20771446462116466,\n",
              " 0.20964308077645577,\n",
              " 0.21001878522229173,\n",
              " 0.21828428303068248,\n",
              " 0.2176330619912335,\n",
              " 0.22106449592986843,\n",
              " 0.21613024420788973,\n",
              " 0.21314965560425791,\n",
              " 0.215178459611772,\n",
              " 0.21735754539762048,\n",
              " 0.21956167814652466,\n",
              " 0.21635566687539132,\n",
              " 0.22289292423293672,\n",
              " 0.22444583594239192,\n",
              " 0.22232936756418276,\n",
              " 0.21475266123982467,\n",
              " 0.21122103944896675,\n",
              " 0.1882279273638071]"
            ]
          },
          "metadata": {},
          "execution_count": 50
        }
      ]
    },
    {
      "cell_type": "code",
      "source": [
        "# demonstrate prediction for next 10 days\n",
        "from numpy import array\n",
        "\n",
        "lst_output=[]\n",
        "n_steps=100\n",
        "i=0\n",
        "while(i<30):\n",
        "\n",
        "    if(len(temp_input)>100):\n",
        "        #print(temp_input)\n",
        "        x_input=np.array(temp_input[1:])\n",
        "        print(\"{} day input {}\".format(i,x_input))\n",
        "        x_input=x_input.reshape(1,-1)\n",
        "        x_input = x_input.reshape((1, n_steps, 1))\n",
        "        #print(x_input)\n",
        "        yhat = model.predict(x_input, verbose=0)\n",
        "        print(\"{} day output {}\".format(i,yhat))\n",
        "        temp_input.extend(yhat[0].tolist())\n",
        "        temp_input=temp_input[1:]\n",
        "        #print(temp_input)\n",
        "        lst_output.extend(yhat.tolist())\n",
        "        i=i+1\n",
        "    else:\n",
        "        x_input = x_input.reshape((1, n_steps,1))\n",
        "        yhat = model.predict(x_input, verbose=0)\n",
        "        print(yhat[0])\n",
        "        temp_input.extend(yhat[0].tolist())\n",
        "        print(len(temp_input))\n",
        "        lst_output.extend(yhat.tolist())sss\n",
        "        i=i+1\n",
        "\n",
        "\n",
        "print(lst_output)"
      ],
      "metadata": {
        "colab": {
          "base_uri": "https://localhost:8080/"
        },
        "id": "F8kZP_3wTrO_",
        "outputId": "2220a3a6-c6da-47a4-df84-745148c1ff4b"
      },
      "execution_count": 51,
      "outputs": [
        {
          "output_type": "stream",
          "name": "stdout",
          "text": [
            "[0.2140722]\n",
            "101\n",
            "1 day input [0.11559173 0.12275517 0.12062617 0.12663745 0.13134627 0.12771446\n",
            " 0.13046963 0.13377583 0.12884158 0.12726362 0.13507827 0.13906074\n",
            " 0.14542267 0.14860363 0.1472511  0.14256731 0.14482154 0.13823419\n",
            " 0.13515341 0.13340013 0.14707577 0.14619912 0.14624922 0.14935504\n",
            " 0.15226049 0.14980589 0.14572323 0.14649969 0.14259236 0.14256731\n",
            " 0.15421415 0.15739512 0.15716969 0.15453976 0.15180964 0.14765185\n",
            " 0.16713838 0.16696306 0.16262993 0.16710081 0.16758923 0.16463369\n",
            " 0.16338134 0.16338134 0.16493425 0.17084534 0.17112085 0.16871634\n",
            " 0.16210394 0.16280526 0.16568566 0.17179712 0.1764809  0.17635567\n",
            " 0.183469   0.18562304 0.18219161 0.18126487 0.17778334 0.18467126\n",
            " 0.18564809 0.19273638 0.19153413 0.19313713 0.19829681 0.19556669\n",
            " 0.19579211 0.19316218 0.20077646 0.19997495 0.19644333 0.20343143\n",
            " 0.20641202 0.20726362 0.21823419 0.2144521  0.21162179 0.21282405\n",
            " 0.20999374 0.20480902 0.20348153 0.20771446 0.20964308 0.21001879\n",
            " 0.21828428 0.21763306 0.2210645  0.21613024 0.21314966 0.21517846\n",
            " 0.21735755 0.21956168 0.21635567 0.22289292 0.22444584 0.22232937\n",
            " 0.21475266 0.21122104 0.18822793 0.2140722 ]\n",
            "1 day output [[0.2127934]]\n",
            "2 day input [0.12275517 0.12062617 0.12663745 0.13134627 0.12771446 0.13046963\n",
            " 0.13377583 0.12884158 0.12726362 0.13507827 0.13906074 0.14542267\n",
            " 0.14860363 0.1472511  0.14256731 0.14482154 0.13823419 0.13515341\n",
            " 0.13340013 0.14707577 0.14619912 0.14624922 0.14935504 0.15226049\n",
            " 0.14980589 0.14572323 0.14649969 0.14259236 0.14256731 0.15421415\n",
            " 0.15739512 0.15716969 0.15453976 0.15180964 0.14765185 0.16713838\n",
            " 0.16696306 0.16262993 0.16710081 0.16758923 0.16463369 0.16338134\n",
            " 0.16338134 0.16493425 0.17084534 0.17112085 0.16871634 0.16210394\n",
            " 0.16280526 0.16568566 0.17179712 0.1764809  0.17635567 0.183469\n",
            " 0.18562304 0.18219161 0.18126487 0.17778334 0.18467126 0.18564809\n",
            " 0.19273638 0.19153413 0.19313713 0.19829681 0.19556669 0.19579211\n",
            " 0.19316218 0.20077646 0.19997495 0.19644333 0.20343143 0.20641202\n",
            " 0.20726362 0.21823419 0.2144521  0.21162179 0.21282405 0.20999374\n",
            " 0.20480902 0.20348153 0.20771446 0.20964308 0.21001879 0.21828428\n",
            " 0.21763306 0.2210645  0.21613024 0.21314966 0.21517846 0.21735755\n",
            " 0.21956168 0.21635567 0.22289292 0.22444584 0.22232937 0.21475266\n",
            " 0.21122104 0.18822793 0.2140722  0.21279339]\n",
            "2 day output [[0.2115854]]\n",
            "3 day input [0.12062617 0.12663745 0.13134627 0.12771446 0.13046963 0.13377583\n",
            " 0.12884158 0.12726362 0.13507827 0.13906074 0.14542267 0.14860363\n",
            " 0.1472511  0.14256731 0.14482154 0.13823419 0.13515341 0.13340013\n",
            " 0.14707577 0.14619912 0.14624922 0.14935504 0.15226049 0.14980589\n",
            " 0.14572323 0.14649969 0.14259236 0.14256731 0.15421415 0.15739512\n",
            " 0.15716969 0.15453976 0.15180964 0.14765185 0.16713838 0.16696306\n",
            " 0.16262993 0.16710081 0.16758923 0.16463369 0.16338134 0.16338134\n",
            " 0.16493425 0.17084534 0.17112085 0.16871634 0.16210394 0.16280526\n",
            " 0.16568566 0.17179712 0.1764809  0.17635567 0.183469   0.18562304\n",
            " 0.18219161 0.18126487 0.17778334 0.18467126 0.18564809 0.19273638\n",
            " 0.19153413 0.19313713 0.19829681 0.19556669 0.19579211 0.19316218\n",
            " 0.20077646 0.19997495 0.19644333 0.20343143 0.20641202 0.20726362\n",
            " 0.21823419 0.2144521  0.21162179 0.21282405 0.20999374 0.20480902\n",
            " 0.20348153 0.20771446 0.20964308 0.21001879 0.21828428 0.21763306\n",
            " 0.2210645  0.21613024 0.21314966 0.21517846 0.21735755 0.21956168\n",
            " 0.21635567 0.22289292 0.22444584 0.22232937 0.21475266 0.21122104\n",
            " 0.18822793 0.2140722  0.21279339 0.2115854 ]\n",
            "3 day output [[0.210514]]\n",
            "4 day input [0.12663745 0.13134627 0.12771446 0.13046963 0.13377583 0.12884158\n",
            " 0.12726362 0.13507827 0.13906074 0.14542267 0.14860363 0.1472511\n",
            " 0.14256731 0.14482154 0.13823419 0.13515341 0.13340013 0.14707577\n",
            " 0.14619912 0.14624922 0.14935504 0.15226049 0.14980589 0.14572323\n",
            " 0.14649969 0.14259236 0.14256731 0.15421415 0.15739512 0.15716969\n",
            " 0.15453976 0.15180964 0.14765185 0.16713838 0.16696306 0.16262993\n",
            " 0.16710081 0.16758923 0.16463369 0.16338134 0.16338134 0.16493425\n",
            " 0.17084534 0.17112085 0.16871634 0.16210394 0.16280526 0.16568566\n",
            " 0.17179712 0.1764809  0.17635567 0.183469   0.18562304 0.18219161\n",
            " 0.18126487 0.17778334 0.18467126 0.18564809 0.19273638 0.19153413\n",
            " 0.19313713 0.19829681 0.19556669 0.19579211 0.19316218 0.20077646\n",
            " 0.19997495 0.19644333 0.20343143 0.20641202 0.20726362 0.21823419\n",
            " 0.2144521  0.21162179 0.21282405 0.20999374 0.20480902 0.20348153\n",
            " 0.20771446 0.20964308 0.21001879 0.21828428 0.21763306 0.2210645\n",
            " 0.21613024 0.21314966 0.21517846 0.21735755 0.21956168 0.21635567\n",
            " 0.22289292 0.22444584 0.22232937 0.21475266 0.21122104 0.18822793\n",
            " 0.2140722  0.21279339 0.2115854  0.21051399]\n",
            "4 day output [[0.20956312]]\n",
            "5 day input [0.13134627 0.12771446 0.13046963 0.13377583 0.12884158 0.12726362\n",
            " 0.13507827 0.13906074 0.14542267 0.14860363 0.1472511  0.14256731\n",
            " 0.14482154 0.13823419 0.13515341 0.13340013 0.14707577 0.14619912\n",
            " 0.14624922 0.14935504 0.15226049 0.14980589 0.14572323 0.14649969\n",
            " 0.14259236 0.14256731 0.15421415 0.15739512 0.15716969 0.15453976\n",
            " 0.15180964 0.14765185 0.16713838 0.16696306 0.16262993 0.16710081\n",
            " 0.16758923 0.16463369 0.16338134 0.16338134 0.16493425 0.17084534\n",
            " 0.17112085 0.16871634 0.16210394 0.16280526 0.16568566 0.17179712\n",
            " 0.1764809  0.17635567 0.183469   0.18562304 0.18219161 0.18126487\n",
            " 0.17778334 0.18467126 0.18564809 0.19273638 0.19153413 0.19313713\n",
            " 0.19829681 0.19556669 0.19579211 0.19316218 0.20077646 0.19997495\n",
            " 0.19644333 0.20343143 0.20641202 0.20726362 0.21823419 0.2144521\n",
            " 0.21162179 0.21282405 0.20999374 0.20480902 0.20348153 0.20771446\n",
            " 0.20964308 0.21001879 0.21828428 0.21763306 0.2210645  0.21613024\n",
            " 0.21314966 0.21517846 0.21735755 0.21956168 0.21635567 0.22289292\n",
            " 0.22444584 0.22232937 0.21475266 0.21122104 0.18822793 0.2140722\n",
            " 0.21279339 0.2115854  0.21051399 0.20956312]\n",
            "5 day output [[0.20869929]]\n",
            "6 day input [0.12771446 0.13046963 0.13377583 0.12884158 0.12726362 0.13507827\n",
            " 0.13906074 0.14542267 0.14860363 0.1472511  0.14256731 0.14482154\n",
            " 0.13823419 0.13515341 0.13340013 0.14707577 0.14619912 0.14624922\n",
            " 0.14935504 0.15226049 0.14980589 0.14572323 0.14649969 0.14259236\n",
            " 0.14256731 0.15421415 0.15739512 0.15716969 0.15453976 0.15180964\n",
            " 0.14765185 0.16713838 0.16696306 0.16262993 0.16710081 0.16758923\n",
            " 0.16463369 0.16338134 0.16338134 0.16493425 0.17084534 0.17112085\n",
            " 0.16871634 0.16210394 0.16280526 0.16568566 0.17179712 0.1764809\n",
            " 0.17635567 0.183469   0.18562304 0.18219161 0.18126487 0.17778334\n",
            " 0.18467126 0.18564809 0.19273638 0.19153413 0.19313713 0.19829681\n",
            " 0.19556669 0.19579211 0.19316218 0.20077646 0.19997495 0.19644333\n",
            " 0.20343143 0.20641202 0.20726362 0.21823419 0.2144521  0.21162179\n",
            " 0.21282405 0.20999374 0.20480902 0.20348153 0.20771446 0.20964308\n",
            " 0.21001879 0.21828428 0.21763306 0.2210645  0.21613024 0.21314966\n",
            " 0.21517846 0.21735755 0.21956168 0.21635567 0.22289292 0.22444584\n",
            " 0.22232937 0.21475266 0.21122104 0.18822793 0.2140722  0.21279339\n",
            " 0.2115854  0.21051399 0.20956312 0.20869929]\n",
            "6 day output [[0.20789434]]\n",
            "7 day input [0.13046963 0.13377583 0.12884158 0.12726362 0.13507827 0.13906074\n",
            " 0.14542267 0.14860363 0.1472511  0.14256731 0.14482154 0.13823419\n",
            " 0.13515341 0.13340013 0.14707577 0.14619912 0.14624922 0.14935504\n",
            " 0.15226049 0.14980589 0.14572323 0.14649969 0.14259236 0.14256731\n",
            " 0.15421415 0.15739512 0.15716969 0.15453976 0.15180964 0.14765185\n",
            " 0.16713838 0.16696306 0.16262993 0.16710081 0.16758923 0.16463369\n",
            " 0.16338134 0.16338134 0.16493425 0.17084534 0.17112085 0.16871634\n",
            " 0.16210394 0.16280526 0.16568566 0.17179712 0.1764809  0.17635567\n",
            " 0.183469   0.18562304 0.18219161 0.18126487 0.17778334 0.18467126\n",
            " 0.18564809 0.19273638 0.19153413 0.19313713 0.19829681 0.19556669\n",
            " 0.19579211 0.19316218 0.20077646 0.19997495 0.19644333 0.20343143\n",
            " 0.20641202 0.20726362 0.21823419 0.2144521  0.21162179 0.21282405\n",
            " 0.20999374 0.20480902 0.20348153 0.20771446 0.20964308 0.21001879\n",
            " 0.21828428 0.21763306 0.2210645  0.21613024 0.21314966 0.21517846\n",
            " 0.21735755 0.21956168 0.21635567 0.22289292 0.22444584 0.22232937\n",
            " 0.21475266 0.21122104 0.18822793 0.2140722  0.21279339 0.2115854\n",
            " 0.21051399 0.20956312 0.20869929 0.20789434]\n",
            "7 day output [[0.20713009]]\n",
            "8 day input [0.13377583 0.12884158 0.12726362 0.13507827 0.13906074 0.14542267\n",
            " 0.14860363 0.1472511  0.14256731 0.14482154 0.13823419 0.13515341\n",
            " 0.13340013 0.14707577 0.14619912 0.14624922 0.14935504 0.15226049\n",
            " 0.14980589 0.14572323 0.14649969 0.14259236 0.14256731 0.15421415\n",
            " 0.15739512 0.15716969 0.15453976 0.15180964 0.14765185 0.16713838\n",
            " 0.16696306 0.16262993 0.16710081 0.16758923 0.16463369 0.16338134\n",
            " 0.16338134 0.16493425 0.17084534 0.17112085 0.16871634 0.16210394\n",
            " 0.16280526 0.16568566 0.17179712 0.1764809  0.17635567 0.183469\n",
            " 0.18562304 0.18219161 0.18126487 0.17778334 0.18467126 0.18564809\n",
            " 0.19273638 0.19153413 0.19313713 0.19829681 0.19556669 0.19579211\n",
            " 0.19316218 0.20077646 0.19997495 0.19644333 0.20343143 0.20641202\n",
            " 0.20726362 0.21823419 0.2144521  0.21162179 0.21282405 0.20999374\n",
            " 0.20480902 0.20348153 0.20771446 0.20964308 0.21001879 0.21828428\n",
            " 0.21763306 0.2210645  0.21613024 0.21314966 0.21517846 0.21735755\n",
            " 0.21956168 0.21635567 0.22289292 0.22444584 0.22232937 0.21475266\n",
            " 0.21122104 0.18822793 0.2140722  0.21279339 0.2115854  0.21051399\n",
            " 0.20956312 0.20869929 0.20789434 0.20713009]\n",
            "8 day output [[0.20639671]]\n",
            "9 day input [0.12884158 0.12726362 0.13507827 0.13906074 0.14542267 0.14860363\n",
            " 0.1472511  0.14256731 0.14482154 0.13823419 0.13515341 0.13340013\n",
            " 0.14707577 0.14619912 0.14624922 0.14935504 0.15226049 0.14980589\n",
            " 0.14572323 0.14649969 0.14259236 0.14256731 0.15421415 0.15739512\n",
            " 0.15716969 0.15453976 0.15180964 0.14765185 0.16713838 0.16696306\n",
            " 0.16262993 0.16710081 0.16758923 0.16463369 0.16338134 0.16338134\n",
            " 0.16493425 0.17084534 0.17112085 0.16871634 0.16210394 0.16280526\n",
            " 0.16568566 0.17179712 0.1764809  0.17635567 0.183469   0.18562304\n",
            " 0.18219161 0.18126487 0.17778334 0.18467126 0.18564809 0.19273638\n",
            " 0.19153413 0.19313713 0.19829681 0.19556669 0.19579211 0.19316218\n",
            " 0.20077646 0.19997495 0.19644333 0.20343143 0.20641202 0.20726362\n",
            " 0.21823419 0.2144521  0.21162179 0.21282405 0.20999374 0.20480902\n",
            " 0.20348153 0.20771446 0.20964308 0.21001879 0.21828428 0.21763306\n",
            " 0.2210645  0.21613024 0.21314966 0.21517846 0.21735755 0.21956168\n",
            " 0.21635567 0.22289292 0.22444584 0.22232937 0.21475266 0.21122104\n",
            " 0.18822793 0.2140722  0.21279339 0.2115854  0.21051399 0.20956312\n",
            " 0.20869929 0.20789434 0.20713009 0.20639671]\n",
            "9 day output [[0.2056895]]\n",
            "10 day input [0.12726362 0.13507827 0.13906074 0.14542267 0.14860363 0.1472511\n",
            " 0.14256731 0.14482154 0.13823419 0.13515341 0.13340013 0.14707577\n",
            " 0.14619912 0.14624922 0.14935504 0.15226049 0.14980589 0.14572323\n",
            " 0.14649969 0.14259236 0.14256731 0.15421415 0.15739512 0.15716969\n",
            " 0.15453976 0.15180964 0.14765185 0.16713838 0.16696306 0.16262993\n",
            " 0.16710081 0.16758923 0.16463369 0.16338134 0.16338134 0.16493425\n",
            " 0.17084534 0.17112085 0.16871634 0.16210394 0.16280526 0.16568566\n",
            " 0.17179712 0.1764809  0.17635567 0.183469   0.18562304 0.18219161\n",
            " 0.18126487 0.17778334 0.18467126 0.18564809 0.19273638 0.19153413\n",
            " 0.19313713 0.19829681 0.19556669 0.19579211 0.19316218 0.20077646\n",
            " 0.19997495 0.19644333 0.20343143 0.20641202 0.20726362 0.21823419\n",
            " 0.2144521  0.21162179 0.21282405 0.20999374 0.20480902 0.20348153\n",
            " 0.20771446 0.20964308 0.21001879 0.21828428 0.21763306 0.2210645\n",
            " 0.21613024 0.21314966 0.21517846 0.21735755 0.21956168 0.21635567\n",
            " 0.22289292 0.22444584 0.22232937 0.21475266 0.21122104 0.18822793\n",
            " 0.2140722  0.21279339 0.2115854  0.21051399 0.20956312 0.20869929\n",
            " 0.20789434 0.20713009 0.20639671 0.2056895 ]\n",
            "10 day output [[0.20500623]]\n",
            "11 day input [0.13507827 0.13906074 0.14542267 0.14860363 0.1472511  0.14256731\n",
            " 0.14482154 0.13823419 0.13515341 0.13340013 0.14707577 0.14619912\n",
            " 0.14624922 0.14935504 0.15226049 0.14980589 0.14572323 0.14649969\n",
            " 0.14259236 0.14256731 0.15421415 0.15739512 0.15716969 0.15453976\n",
            " 0.15180964 0.14765185 0.16713838 0.16696306 0.16262993 0.16710081\n",
            " 0.16758923 0.16463369 0.16338134 0.16338134 0.16493425 0.17084534\n",
            " 0.17112085 0.16871634 0.16210394 0.16280526 0.16568566 0.17179712\n",
            " 0.1764809  0.17635567 0.183469   0.18562304 0.18219161 0.18126487\n",
            " 0.17778334 0.18467126 0.18564809 0.19273638 0.19153413 0.19313713\n",
            " 0.19829681 0.19556669 0.19579211 0.19316218 0.20077646 0.19997495\n",
            " 0.19644333 0.20343143 0.20641202 0.20726362 0.21823419 0.2144521\n",
            " 0.21162179 0.21282405 0.20999374 0.20480902 0.20348153 0.20771446\n",
            " 0.20964308 0.21001879 0.21828428 0.21763306 0.2210645  0.21613024\n",
            " 0.21314966 0.21517846 0.21735755 0.21956168 0.21635567 0.22289292\n",
            " 0.22444584 0.22232937 0.21475266 0.21122104 0.18822793 0.2140722\n",
            " 0.21279339 0.2115854  0.21051399 0.20956312 0.20869929 0.20789434\n",
            " 0.20713009 0.20639671 0.2056895  0.20500623]\n",
            "11 day output [[0.20434532]]\n",
            "12 day input [0.13906074 0.14542267 0.14860363 0.1472511  0.14256731 0.14482154\n",
            " 0.13823419 0.13515341 0.13340013 0.14707577 0.14619912 0.14624922\n",
            " 0.14935504 0.15226049 0.14980589 0.14572323 0.14649969 0.14259236\n",
            " 0.14256731 0.15421415 0.15739512 0.15716969 0.15453976 0.15180964\n",
            " 0.14765185 0.16713838 0.16696306 0.16262993 0.16710081 0.16758923\n",
            " 0.16463369 0.16338134 0.16338134 0.16493425 0.17084534 0.17112085\n",
            " 0.16871634 0.16210394 0.16280526 0.16568566 0.17179712 0.1764809\n",
            " 0.17635567 0.183469   0.18562304 0.18219161 0.18126487 0.17778334\n",
            " 0.18467126 0.18564809 0.19273638 0.19153413 0.19313713 0.19829681\n",
            " 0.19556669 0.19579211 0.19316218 0.20077646 0.19997495 0.19644333\n",
            " 0.20343143 0.20641202 0.20726362 0.21823419 0.2144521  0.21162179\n",
            " 0.21282405 0.20999374 0.20480902 0.20348153 0.20771446 0.20964308\n",
            " 0.21001879 0.21828428 0.21763306 0.2210645  0.21613024 0.21314966\n",
            " 0.21517846 0.21735755 0.21956168 0.21635567 0.22289292 0.22444584\n",
            " 0.22232937 0.21475266 0.21122104 0.18822793 0.2140722  0.21279339\n",
            " 0.2115854  0.21051399 0.20956312 0.20869929 0.20789434 0.20713009\n",
            " 0.20639671 0.2056895  0.20500623 0.20434532]\n",
            "12 day output [[0.20370512]]\n",
            "13 day input [0.14542267 0.14860363 0.1472511  0.14256731 0.14482154 0.13823419\n",
            " 0.13515341 0.13340013 0.14707577 0.14619912 0.14624922 0.14935504\n",
            " 0.15226049 0.14980589 0.14572323 0.14649969 0.14259236 0.14256731\n",
            " 0.15421415 0.15739512 0.15716969 0.15453976 0.15180964 0.14765185\n",
            " 0.16713838 0.16696306 0.16262993 0.16710081 0.16758923 0.16463369\n",
            " 0.16338134 0.16338134 0.16493425 0.17084534 0.17112085 0.16871634\n",
            " 0.16210394 0.16280526 0.16568566 0.17179712 0.1764809  0.17635567\n",
            " 0.183469   0.18562304 0.18219161 0.18126487 0.17778334 0.18467126\n",
            " 0.18564809 0.19273638 0.19153413 0.19313713 0.19829681 0.19556669\n",
            " 0.19579211 0.19316218 0.20077646 0.19997495 0.19644333 0.20343143\n",
            " 0.20641202 0.20726362 0.21823419 0.2144521  0.21162179 0.21282405\n",
            " 0.20999374 0.20480902 0.20348153 0.20771446 0.20964308 0.21001879\n",
            " 0.21828428 0.21763306 0.2210645  0.21613024 0.21314966 0.21517846\n",
            " 0.21735755 0.21956168 0.21635567 0.22289292 0.22444584 0.22232937\n",
            " 0.21475266 0.21122104 0.18822793 0.2140722  0.21279339 0.2115854\n",
            " 0.21051399 0.20956312 0.20869929 0.20789434 0.20713009 0.20639671\n",
            " 0.2056895  0.20500623 0.20434532 0.20370512]\n",
            "13 day output [[0.20308341]]\n",
            "14 day input [0.14860363 0.1472511  0.14256731 0.14482154 0.13823419 0.13515341\n",
            " 0.13340013 0.14707577 0.14619912 0.14624922 0.14935504 0.15226049\n",
            " 0.14980589 0.14572323 0.14649969 0.14259236 0.14256731 0.15421415\n",
            " 0.15739512 0.15716969 0.15453976 0.15180964 0.14765185 0.16713838\n",
            " 0.16696306 0.16262993 0.16710081 0.16758923 0.16463369 0.16338134\n",
            " 0.16338134 0.16493425 0.17084534 0.17112085 0.16871634 0.16210394\n",
            " 0.16280526 0.16568566 0.17179712 0.1764809  0.17635567 0.183469\n",
            " 0.18562304 0.18219161 0.18126487 0.17778334 0.18467126 0.18564809\n",
            " 0.19273638 0.19153413 0.19313713 0.19829681 0.19556669 0.19579211\n",
            " 0.19316218 0.20077646 0.19997495 0.19644333 0.20343143 0.20641202\n",
            " 0.20726362 0.21823419 0.2144521  0.21162179 0.21282405 0.20999374\n",
            " 0.20480902 0.20348153 0.20771446 0.20964308 0.21001879 0.21828428\n",
            " 0.21763306 0.2210645  0.21613024 0.21314966 0.21517846 0.21735755\n",
            " 0.21956168 0.21635567 0.22289292 0.22444584 0.22232937 0.21475266\n",
            " 0.21122104 0.18822793 0.2140722  0.21279339 0.2115854  0.21051399\n",
            " 0.20956312 0.20869929 0.20789434 0.20713009 0.20639671 0.2056895\n",
            " 0.20500623 0.20434532 0.20370512 0.20308341]\n",
            "14 day output [[0.20247747]]\n",
            "15 day input [0.1472511  0.14256731 0.14482154 0.13823419 0.13515341 0.13340013\n",
            " 0.14707577 0.14619912 0.14624922 0.14935504 0.15226049 0.14980589\n",
            " 0.14572323 0.14649969 0.14259236 0.14256731 0.15421415 0.15739512\n",
            " 0.15716969 0.15453976 0.15180964 0.14765185 0.16713838 0.16696306\n",
            " 0.16262993 0.16710081 0.16758923 0.16463369 0.16338134 0.16338134\n",
            " 0.16493425 0.17084534 0.17112085 0.16871634 0.16210394 0.16280526\n",
            " 0.16568566 0.17179712 0.1764809  0.17635567 0.183469   0.18562304\n",
            " 0.18219161 0.18126487 0.17778334 0.18467126 0.18564809 0.19273638\n",
            " 0.19153413 0.19313713 0.19829681 0.19556669 0.19579211 0.19316218\n",
            " 0.20077646 0.19997495 0.19644333 0.20343143 0.20641202 0.20726362\n",
            " 0.21823419 0.2144521  0.21162179 0.21282405 0.20999374 0.20480902\n",
            " 0.20348153 0.20771446 0.20964308 0.21001879 0.21828428 0.21763306\n",
            " 0.2210645  0.21613024 0.21314966 0.21517846 0.21735755 0.21956168\n",
            " 0.21635567 0.22289292 0.22444584 0.22232937 0.21475266 0.21122104\n",
            " 0.18822793 0.2140722  0.21279339 0.2115854  0.21051399 0.20956312\n",
            " 0.20869929 0.20789434 0.20713009 0.20639671 0.2056895  0.20500623\n",
            " 0.20434532 0.20370512 0.20308341 0.20247747]\n",
            "15 day output [[0.20188427]]\n",
            "16 day input [0.14256731 0.14482154 0.13823419 0.13515341 0.13340013 0.14707577\n",
            " 0.14619912 0.14624922 0.14935504 0.15226049 0.14980589 0.14572323\n",
            " 0.14649969 0.14259236 0.14256731 0.15421415 0.15739512 0.15716969\n",
            " 0.15453976 0.15180964 0.14765185 0.16713838 0.16696306 0.16262993\n",
            " 0.16710081 0.16758923 0.16463369 0.16338134 0.16338134 0.16493425\n",
            " 0.17084534 0.17112085 0.16871634 0.16210394 0.16280526 0.16568566\n",
            " 0.17179712 0.1764809  0.17635567 0.183469   0.18562304 0.18219161\n",
            " 0.18126487 0.17778334 0.18467126 0.18564809 0.19273638 0.19153413\n",
            " 0.19313713 0.19829681 0.19556669 0.19579211 0.19316218 0.20077646\n",
            " 0.19997495 0.19644333 0.20343143 0.20641202 0.20726362 0.21823419\n",
            " 0.2144521  0.21162179 0.21282405 0.20999374 0.20480902 0.20348153\n",
            " 0.20771446 0.20964308 0.21001879 0.21828428 0.21763306 0.2210645\n",
            " 0.21613024 0.21314966 0.21517846 0.21735755 0.21956168 0.21635567\n",
            " 0.22289292 0.22444584 0.22232937 0.21475266 0.21122104 0.18822793\n",
            " 0.2140722  0.21279339 0.2115854  0.21051399 0.20956312 0.20869929\n",
            " 0.20789434 0.20713009 0.20639671 0.2056895  0.20500623 0.20434532\n",
            " 0.20370512 0.20308341 0.20247747 0.20188427]\n",
            "16 day output [[0.20130064]]\n",
            "17 day input [0.14482154 0.13823419 0.13515341 0.13340013 0.14707577 0.14619912\n",
            " 0.14624922 0.14935504 0.15226049 0.14980589 0.14572323 0.14649969\n",
            " 0.14259236 0.14256731 0.15421415 0.15739512 0.15716969 0.15453976\n",
            " 0.15180964 0.14765185 0.16713838 0.16696306 0.16262993 0.16710081\n",
            " 0.16758923 0.16463369 0.16338134 0.16338134 0.16493425 0.17084534\n",
            " 0.17112085 0.16871634 0.16210394 0.16280526 0.16568566 0.17179712\n",
            " 0.1764809  0.17635567 0.183469   0.18562304 0.18219161 0.18126487\n",
            " 0.17778334 0.18467126 0.18564809 0.19273638 0.19153413 0.19313713\n",
            " 0.19829681 0.19556669 0.19579211 0.19316218 0.20077646 0.19997495\n",
            " 0.19644333 0.20343143 0.20641202 0.20726362 0.21823419 0.2144521\n",
            " 0.21162179 0.21282405 0.20999374 0.20480902 0.20348153 0.20771446\n",
            " 0.20964308 0.21001879 0.21828428 0.21763306 0.2210645  0.21613024\n",
            " 0.21314966 0.21517846 0.21735755 0.21956168 0.21635567 0.22289292\n",
            " 0.22444584 0.22232937 0.21475266 0.21122104 0.18822793 0.2140722\n",
            " 0.21279339 0.2115854  0.21051399 0.20956312 0.20869929 0.20789434\n",
            " 0.20713009 0.20639671 0.2056895  0.20500623 0.20434532 0.20370512\n",
            " 0.20308341 0.20247747 0.20188427 0.20130064]\n",
            "17 day output [[0.20072357]]\n",
            "18 day input [0.13823419 0.13515341 0.13340013 0.14707577 0.14619912 0.14624922\n",
            " 0.14935504 0.15226049 0.14980589 0.14572323 0.14649969 0.14259236\n",
            " 0.14256731 0.15421415 0.15739512 0.15716969 0.15453976 0.15180964\n",
            " 0.14765185 0.16713838 0.16696306 0.16262993 0.16710081 0.16758923\n",
            " 0.16463369 0.16338134 0.16338134 0.16493425 0.17084534 0.17112085\n",
            " 0.16871634 0.16210394 0.16280526 0.16568566 0.17179712 0.1764809\n",
            " 0.17635567 0.183469   0.18562304 0.18219161 0.18126487 0.17778334\n",
            " 0.18467126 0.18564809 0.19273638 0.19153413 0.19313713 0.19829681\n",
            " 0.19556669 0.19579211 0.19316218 0.20077646 0.19997495 0.19644333\n",
            " 0.20343143 0.20641202 0.20726362 0.21823419 0.2144521  0.21162179\n",
            " 0.21282405 0.20999374 0.20480902 0.20348153 0.20771446 0.20964308\n",
            " 0.21001879 0.21828428 0.21763306 0.2210645  0.21613024 0.21314966\n",
            " 0.21517846 0.21735755 0.21956168 0.21635567 0.22289292 0.22444584\n",
            " 0.22232937 0.21475266 0.21122104 0.18822793 0.2140722  0.21279339\n",
            " 0.2115854  0.21051399 0.20956312 0.20869929 0.20789434 0.20713009\n",
            " 0.20639671 0.2056895  0.20500623 0.20434532 0.20370512 0.20308341\n",
            " 0.20247747 0.20188427 0.20130064 0.20072357]\n",
            "18 day output [[0.20015024]]\n",
            "19 day input [0.13515341 0.13340013 0.14707577 0.14619912 0.14624922 0.14935504\n",
            " 0.15226049 0.14980589 0.14572323 0.14649969 0.14259236 0.14256731\n",
            " 0.15421415 0.15739512 0.15716969 0.15453976 0.15180964 0.14765185\n",
            " 0.16713838 0.16696306 0.16262993 0.16710081 0.16758923 0.16463369\n",
            " 0.16338134 0.16338134 0.16493425 0.17084534 0.17112085 0.16871634\n",
            " 0.16210394 0.16280526 0.16568566 0.17179712 0.1764809  0.17635567\n",
            " 0.183469   0.18562304 0.18219161 0.18126487 0.17778334 0.18467126\n",
            " 0.18564809 0.19273638 0.19153413 0.19313713 0.19829681 0.19556669\n",
            " 0.19579211 0.19316218 0.20077646 0.19997495 0.19644333 0.20343143\n",
            " 0.20641202 0.20726362 0.21823419 0.2144521  0.21162179 0.21282405\n",
            " 0.20999374 0.20480902 0.20348153 0.20771446 0.20964308 0.21001879\n",
            " 0.21828428 0.21763306 0.2210645  0.21613024 0.21314966 0.21517846\n",
            " 0.21735755 0.21956168 0.21635567 0.22289292 0.22444584 0.22232937\n",
            " 0.21475266 0.21122104 0.18822793 0.2140722  0.21279339 0.2115854\n",
            " 0.21051399 0.20956312 0.20869929 0.20789434 0.20713009 0.20639671\n",
            " 0.2056895  0.20500623 0.20434532 0.20370512 0.20308341 0.20247747\n",
            " 0.20188427 0.20130064 0.20072357 0.20015024]\n",
            "19 day output [[0.19957826]]\n",
            "20 day input [0.13340013 0.14707577 0.14619912 0.14624922 0.14935504 0.15226049\n",
            " 0.14980589 0.14572323 0.14649969 0.14259236 0.14256731 0.15421415\n",
            " 0.15739512 0.15716969 0.15453976 0.15180964 0.14765185 0.16713838\n",
            " 0.16696306 0.16262993 0.16710081 0.16758923 0.16463369 0.16338134\n",
            " 0.16338134 0.16493425 0.17084534 0.17112085 0.16871634 0.16210394\n",
            " 0.16280526 0.16568566 0.17179712 0.1764809  0.17635567 0.183469\n",
            " 0.18562304 0.18219161 0.18126487 0.17778334 0.18467126 0.18564809\n",
            " 0.19273638 0.19153413 0.19313713 0.19829681 0.19556669 0.19579211\n",
            " 0.19316218 0.20077646 0.19997495 0.19644333 0.20343143 0.20641202\n",
            " 0.20726362 0.21823419 0.2144521  0.21162179 0.21282405 0.20999374\n",
            " 0.20480902 0.20348153 0.20771446 0.20964308 0.21001879 0.21828428\n",
            " 0.21763306 0.2210645  0.21613024 0.21314966 0.21517846 0.21735755\n",
            " 0.21956168 0.21635567 0.22289292 0.22444584 0.22232937 0.21475266\n",
            " 0.21122104 0.18822793 0.2140722  0.21279339 0.2115854  0.21051399\n",
            " 0.20956312 0.20869929 0.20789434 0.20713009 0.20639671 0.2056895\n",
            " 0.20500623 0.20434532 0.20370512 0.20308341 0.20247747 0.20188427\n",
            " 0.20130064 0.20072357 0.20015024 0.19957826]\n",
            "20 day output [[0.19900562]]\n",
            "21 day input [0.14707577 0.14619912 0.14624922 0.14935504 0.15226049 0.14980589\n",
            " 0.14572323 0.14649969 0.14259236 0.14256731 0.15421415 0.15739512\n",
            " 0.15716969 0.15453976 0.15180964 0.14765185 0.16713838 0.16696306\n",
            " 0.16262993 0.16710081 0.16758923 0.16463369 0.16338134 0.16338134\n",
            " 0.16493425 0.17084534 0.17112085 0.16871634 0.16210394 0.16280526\n",
            " 0.16568566 0.17179712 0.1764809  0.17635567 0.183469   0.18562304\n",
            " 0.18219161 0.18126487 0.17778334 0.18467126 0.18564809 0.19273638\n",
            " 0.19153413 0.19313713 0.19829681 0.19556669 0.19579211 0.19316218\n",
            " 0.20077646 0.19997495 0.19644333 0.20343143 0.20641202 0.20726362\n",
            " 0.21823419 0.2144521  0.21162179 0.21282405 0.20999374 0.20480902\n",
            " 0.20348153 0.20771446 0.20964308 0.21001879 0.21828428 0.21763306\n",
            " 0.2210645  0.21613024 0.21314966 0.21517846 0.21735755 0.21956168\n",
            " 0.21635567 0.22289292 0.22444584 0.22232937 0.21475266 0.21122104\n",
            " 0.18822793 0.2140722  0.21279339 0.2115854  0.21051399 0.20956312\n",
            " 0.20869929 0.20789434 0.20713009 0.20639671 0.2056895  0.20500623\n",
            " 0.20434532 0.20370512 0.20308341 0.20247747 0.20188427 0.20130064\n",
            " 0.20072357 0.20015024 0.19957826 0.19900562]\n",
            "21 day output [[0.19843079]]\n",
            "22 day input [0.14619912 0.14624922 0.14935504 0.15226049 0.14980589 0.14572323\n",
            " 0.14649969 0.14259236 0.14256731 0.15421415 0.15739512 0.15716969\n",
            " 0.15453976 0.15180964 0.14765185 0.16713838 0.16696306 0.16262993\n",
            " 0.16710081 0.16758923 0.16463369 0.16338134 0.16338134 0.16493425\n",
            " 0.17084534 0.17112085 0.16871634 0.16210394 0.16280526 0.16568566\n",
            " 0.17179712 0.1764809  0.17635567 0.183469   0.18562304 0.18219161\n",
            " 0.18126487 0.17778334 0.18467126 0.18564809 0.19273638 0.19153413\n",
            " 0.19313713 0.19829681 0.19556669 0.19579211 0.19316218 0.20077646\n",
            " 0.19997495 0.19644333 0.20343143 0.20641202 0.20726362 0.21823419\n",
            " 0.2144521  0.21162179 0.21282405 0.20999374 0.20480902 0.20348153\n",
            " 0.20771446 0.20964308 0.21001879 0.21828428 0.21763306 0.2210645\n",
            " 0.21613024 0.21314966 0.21517846 0.21735755 0.21956168 0.21635567\n",
            " 0.22289292 0.22444584 0.22232937 0.21475266 0.21122104 0.18822793\n",
            " 0.2140722  0.21279339 0.2115854  0.21051399 0.20956312 0.20869929\n",
            " 0.20789434 0.20713009 0.20639671 0.2056895  0.20500623 0.20434532\n",
            " 0.20370512 0.20308341 0.20247747 0.20188427 0.20130064 0.20072357\n",
            " 0.20015024 0.19957826 0.19900562 0.19843079]\n",
            "22 day output [[0.19785266]]\n",
            "23 day input [0.14624922 0.14935504 0.15226049 0.14980589 0.14572323 0.14649969\n",
            " 0.14259236 0.14256731 0.15421415 0.15739512 0.15716969 0.15453976\n",
            " 0.15180964 0.14765185 0.16713838 0.16696306 0.16262993 0.16710081\n",
            " 0.16758923 0.16463369 0.16338134 0.16338134 0.16493425 0.17084534\n",
            " 0.17112085 0.16871634 0.16210394 0.16280526 0.16568566 0.17179712\n",
            " 0.1764809  0.17635567 0.183469   0.18562304 0.18219161 0.18126487\n",
            " 0.17778334 0.18467126 0.18564809 0.19273638 0.19153413 0.19313713\n",
            " 0.19829681 0.19556669 0.19579211 0.19316218 0.20077646 0.19997495\n",
            " 0.19644333 0.20343143 0.20641202 0.20726362 0.21823419 0.2144521\n",
            " 0.21162179 0.21282405 0.20999374 0.20480902 0.20348153 0.20771446\n",
            " 0.20964308 0.21001879 0.21828428 0.21763306 0.2210645  0.21613024\n",
            " 0.21314966 0.21517846 0.21735755 0.21956168 0.21635567 0.22289292\n",
            " 0.22444584 0.22232937 0.21475266 0.21122104 0.18822793 0.2140722\n",
            " 0.21279339 0.2115854  0.21051399 0.20956312 0.20869929 0.20789434\n",
            " 0.20713009 0.20639671 0.2056895  0.20500623 0.20434532 0.20370512\n",
            " 0.20308341 0.20247747 0.20188427 0.20130064 0.20072357 0.20015024\n",
            " 0.19957826 0.19900562 0.19843079 0.19785266]\n",
            "23 day output [[0.19727053]]\n",
            "24 day input [0.14935504 0.15226049 0.14980589 0.14572323 0.14649969 0.14259236\n",
            " 0.14256731 0.15421415 0.15739512 0.15716969 0.15453976 0.15180964\n",
            " 0.14765185 0.16713838 0.16696306 0.16262993 0.16710081 0.16758923\n",
            " 0.16463369 0.16338134 0.16338134 0.16493425 0.17084534 0.17112085\n",
            " 0.16871634 0.16210394 0.16280526 0.16568566 0.17179712 0.1764809\n",
            " 0.17635567 0.183469   0.18562304 0.18219161 0.18126487 0.17778334\n",
            " 0.18467126 0.18564809 0.19273638 0.19153413 0.19313713 0.19829681\n",
            " 0.19556669 0.19579211 0.19316218 0.20077646 0.19997495 0.19644333\n",
            " 0.20343143 0.20641202 0.20726362 0.21823419 0.2144521  0.21162179\n",
            " 0.21282405 0.20999374 0.20480902 0.20348153 0.20771446 0.20964308\n",
            " 0.21001879 0.21828428 0.21763306 0.2210645  0.21613024 0.21314966\n",
            " 0.21517846 0.21735755 0.21956168 0.21635567 0.22289292 0.22444584\n",
            " 0.22232937 0.21475266 0.21122104 0.18822793 0.2140722  0.21279339\n",
            " 0.2115854  0.21051399 0.20956312 0.20869929 0.20789434 0.20713009\n",
            " 0.20639671 0.2056895  0.20500623 0.20434532 0.20370512 0.20308341\n",
            " 0.20247747 0.20188427 0.20130064 0.20072357 0.20015024 0.19957826\n",
            " 0.19900562 0.19843079 0.19785266 0.19727053]\n",
            "24 day output [[0.19668408]]\n",
            "25 day input [0.15226049 0.14980589 0.14572323 0.14649969 0.14259236 0.14256731\n",
            " 0.15421415 0.15739512 0.15716969 0.15453976 0.15180964 0.14765185\n",
            " 0.16713838 0.16696306 0.16262993 0.16710081 0.16758923 0.16463369\n",
            " 0.16338134 0.16338134 0.16493425 0.17084534 0.17112085 0.16871634\n",
            " 0.16210394 0.16280526 0.16568566 0.17179712 0.1764809  0.17635567\n",
            " 0.183469   0.18562304 0.18219161 0.18126487 0.17778334 0.18467126\n",
            " 0.18564809 0.19273638 0.19153413 0.19313713 0.19829681 0.19556669\n",
            " 0.19579211 0.19316218 0.20077646 0.19997495 0.19644333 0.20343143\n",
            " 0.20641202 0.20726362 0.21823419 0.2144521  0.21162179 0.21282405\n",
            " 0.20999374 0.20480902 0.20348153 0.20771446 0.20964308 0.21001879\n",
            " 0.21828428 0.21763306 0.2210645  0.21613024 0.21314966 0.21517846\n",
            " 0.21735755 0.21956168 0.21635567 0.22289292 0.22444584 0.22232937\n",
            " 0.21475266 0.21122104 0.18822793 0.2140722  0.21279339 0.2115854\n",
            " 0.21051399 0.20956312 0.20869929 0.20789434 0.20713009 0.20639671\n",
            " 0.2056895  0.20500623 0.20434532 0.20370512 0.20308341 0.20247747\n",
            " 0.20188427 0.20130064 0.20072357 0.20015024 0.19957826 0.19900562\n",
            " 0.19843079 0.19785266 0.19727053 0.19668408]\n",
            "25 day output [[0.19609311]]\n",
            "26 day input [0.14980589 0.14572323 0.14649969 0.14259236 0.14256731 0.15421415\n",
            " 0.15739512 0.15716969 0.15453976 0.15180964 0.14765185 0.16713838\n",
            " 0.16696306 0.16262993 0.16710081 0.16758923 0.16463369 0.16338134\n",
            " 0.16338134 0.16493425 0.17084534 0.17112085 0.16871634 0.16210394\n",
            " 0.16280526 0.16568566 0.17179712 0.1764809  0.17635567 0.183469\n",
            " 0.18562304 0.18219161 0.18126487 0.17778334 0.18467126 0.18564809\n",
            " 0.19273638 0.19153413 0.19313713 0.19829681 0.19556669 0.19579211\n",
            " 0.19316218 0.20077646 0.19997495 0.19644333 0.20343143 0.20641202\n",
            " 0.20726362 0.21823419 0.2144521  0.21162179 0.21282405 0.20999374\n",
            " 0.20480902 0.20348153 0.20771446 0.20964308 0.21001879 0.21828428\n",
            " 0.21763306 0.2210645  0.21613024 0.21314966 0.21517846 0.21735755\n",
            " 0.21956168 0.21635567 0.22289292 0.22444584 0.22232937 0.21475266\n",
            " 0.21122104 0.18822793 0.2140722  0.21279339 0.2115854  0.21051399\n",
            " 0.20956312 0.20869929 0.20789434 0.20713009 0.20639671 0.2056895\n",
            " 0.20500623 0.20434532 0.20370512 0.20308341 0.20247747 0.20188427\n",
            " 0.20130064 0.20072357 0.20015024 0.19957826 0.19900562 0.19843079\n",
            " 0.19785266 0.19727053 0.19668408 0.19609311]\n",
            "26 day output [[0.19549783]]\n",
            "27 day input [0.14572323 0.14649969 0.14259236 0.14256731 0.15421415 0.15739512\n",
            " 0.15716969 0.15453976 0.15180964 0.14765185 0.16713838 0.16696306\n",
            " 0.16262993 0.16710081 0.16758923 0.16463369 0.16338134 0.16338134\n",
            " 0.16493425 0.17084534 0.17112085 0.16871634 0.16210394 0.16280526\n",
            " 0.16568566 0.17179712 0.1764809  0.17635567 0.183469   0.18562304\n",
            " 0.18219161 0.18126487 0.17778334 0.18467126 0.18564809 0.19273638\n",
            " 0.19153413 0.19313713 0.19829681 0.19556669 0.19579211 0.19316218\n",
            " 0.20077646 0.19997495 0.19644333 0.20343143 0.20641202 0.20726362\n",
            " 0.21823419 0.2144521  0.21162179 0.21282405 0.20999374 0.20480902\n",
            " 0.20348153 0.20771446 0.20964308 0.21001879 0.21828428 0.21763306\n",
            " 0.2210645  0.21613024 0.21314966 0.21517846 0.21735755 0.21956168\n",
            " 0.21635567 0.22289292 0.22444584 0.22232937 0.21475266 0.21122104\n",
            " 0.18822793 0.2140722  0.21279339 0.2115854  0.21051399 0.20956312\n",
            " 0.20869929 0.20789434 0.20713009 0.20639671 0.2056895  0.20500623\n",
            " 0.20434532 0.20370512 0.20308341 0.20247747 0.20188427 0.20130064\n",
            " 0.20072357 0.20015024 0.19957826 0.19900562 0.19843079 0.19785266\n",
            " 0.19727053 0.19668408 0.19609311 0.19549783]\n",
            "27 day output [[0.19489847]]\n",
            "28 day input [0.14649969 0.14259236 0.14256731 0.15421415 0.15739512 0.15716969\n",
            " 0.15453976 0.15180964 0.14765185 0.16713838 0.16696306 0.16262993\n",
            " 0.16710081 0.16758923 0.16463369 0.16338134 0.16338134 0.16493425\n",
            " 0.17084534 0.17112085 0.16871634 0.16210394 0.16280526 0.16568566\n",
            " 0.17179712 0.1764809  0.17635567 0.183469   0.18562304 0.18219161\n",
            " 0.18126487 0.17778334 0.18467126 0.18564809 0.19273638 0.19153413\n",
            " 0.19313713 0.19829681 0.19556669 0.19579211 0.19316218 0.20077646\n",
            " 0.19997495 0.19644333 0.20343143 0.20641202 0.20726362 0.21823419\n",
            " 0.2144521  0.21162179 0.21282405 0.20999374 0.20480902 0.20348153\n",
            " 0.20771446 0.20964308 0.21001879 0.21828428 0.21763306 0.2210645\n",
            " 0.21613024 0.21314966 0.21517846 0.21735755 0.21956168 0.21635567\n",
            " 0.22289292 0.22444584 0.22232937 0.21475266 0.21122104 0.18822793\n",
            " 0.2140722  0.21279339 0.2115854  0.21051399 0.20956312 0.20869929\n",
            " 0.20789434 0.20713009 0.20639671 0.2056895  0.20500623 0.20434532\n",
            " 0.20370512 0.20308341 0.20247747 0.20188427 0.20130064 0.20072357\n",
            " 0.20015024 0.19957826 0.19900562 0.19843079 0.19785266 0.19727053\n",
            " 0.19668408 0.19609311 0.19549783 0.19489847]\n",
            "28 day output [[0.19429542]]\n",
            "29 day input [0.14259236 0.14256731 0.15421415 0.15739512 0.15716969 0.15453976\n",
            " 0.15180964 0.14765185 0.16713838 0.16696306 0.16262993 0.16710081\n",
            " 0.16758923 0.16463369 0.16338134 0.16338134 0.16493425 0.17084534\n",
            " 0.17112085 0.16871634 0.16210394 0.16280526 0.16568566 0.17179712\n",
            " 0.1764809  0.17635567 0.183469   0.18562304 0.18219161 0.18126487\n",
            " 0.17778334 0.18467126 0.18564809 0.19273638 0.19153413 0.19313713\n",
            " 0.19829681 0.19556669 0.19579211 0.19316218 0.20077646 0.19997495\n",
            " 0.19644333 0.20343143 0.20641202 0.20726362 0.21823419 0.2144521\n",
            " 0.21162179 0.21282405 0.20999374 0.20480902 0.20348153 0.20771446\n",
            " 0.20964308 0.21001879 0.21828428 0.21763306 0.2210645  0.21613024\n",
            " 0.21314966 0.21517846 0.21735755 0.21956168 0.21635567 0.22289292\n",
            " 0.22444584 0.22232937 0.21475266 0.21122104 0.18822793 0.2140722\n",
            " 0.21279339 0.2115854  0.21051399 0.20956312 0.20869929 0.20789434\n",
            " 0.20713009 0.20639671 0.2056895  0.20500623 0.20434532 0.20370512\n",
            " 0.20308341 0.20247747 0.20188427 0.20130064 0.20072357 0.20015024\n",
            " 0.19957826 0.19900562 0.19843079 0.19785266 0.19727053 0.19668408\n",
            " 0.19609311 0.19549783 0.19489847 0.19429542]\n",
            "29 day output [[0.1936891]]\n",
            "[[0.21407219767570496], [0.21279339492321014], [0.2115854024887085], [0.21051399409770966], [0.20956312119960785], [0.2086992859840393], [0.20789434015750885], [0.2071300894021988], [0.20639671385288239], [0.20568950474262238], [0.20500622689723969], [0.20434531569480896], [0.20370511710643768], [0.20308341085910797], [0.20247747004032135], [0.20188426971435547], [0.20130063593387604], [0.2007235735654831], [0.2001502364873886], [0.19957825541496277], [0.1990056186914444], [0.19843079149723053], [0.19785265624523163], [0.19727052748203278], [0.1966840773820877], [0.1960931122303009], [0.19549782574176788], [0.19489847123622894], [0.19429542124271393], [0.19368909299373627]]\n"
          ]
        }
      ]
    },
    {
      "cell_type": "code",
      "source": [
        "day_new=np.arange(1,101)\n",
        "day_pred=np.arange(101,131)"
      ],
      "metadata": {
        "id": "nqWaZBnyUQSL"
      },
      "execution_count": 53,
      "outputs": []
    },
    {
      "cell_type": "code",
      "source": [
        "len(df2)"
      ],
      "metadata": {
        "colab": {
          "base_uri": "https://localhost:8080/"
        },
        "id": "_GZNy6IVUbni",
        "outputId": "4a04c21f-236d-4c7c-c1e6-2b5e19fc0029"
      },
      "execution_count": 56,
      "outputs": [
        {
          "output_type": "execute_result",
          "data": {
            "text/plain": [
              "1256"
            ]
          },
          "metadata": {},
          "execution_count": 56
        }
      ]
    },
    {
      "cell_type": "code",
      "source": [
        "plt.plot(day_new,scaler.inverse_transform(df2[1156:]))\n",
        "plt.plot(day_pred,scaler.inverse_transform(lst_output))"
      ],
      "metadata": {
        "colab": {
          "base_uri": "https://localhost:8080/",
          "height": 447
        },
        "id": "auXPzjk8TwcF",
        "outputId": "c611607e-3dcf-4bff-eff5-c3faa4265be7"
      },
      "execution_count": 57,
      "outputs": [
        {
          "output_type": "execute_result",
          "data": {
            "text/plain": [
              "[<matplotlib.lines.Line2D at 0x7c9d4c1d8dc0>]"
            ]
          },
          "metadata": {},
          "execution_count": 57
        },
        {
          "output_type": "display_data",
          "data": {
            "text/plain": [
              "<Figure size 640x480 with 1 Axes>"
            ],
            "image/png": "[encoded data removed]"
          },
          "metadata": {}
        }
      ]
    },
    {
      "cell_type": "code",
      "source": [],
      "metadata": {
        "id": "mD9uIeyLUHzF"
      },
      "execution_count": null,
      "outputs": []
    },
    {
      "cell_type": "code",
      "source": [],
      "metadata": {
        "id": "8V-08od3UOk6"
      },
      "execution_count": null,
      "outputs": []
    }
  ]
}